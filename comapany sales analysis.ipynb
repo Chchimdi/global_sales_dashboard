{
 "cells": [
  {
   "cell_type": "code",
   "execution_count": 0,
   "metadata": {
    "application/vnd.databricks.v1+cell": {
     "cellMetadata": {
      "byteLimit": 2048000,
      "rowLimit": 10000
     },
     "inputWidgets": {},
     "nuid": "37584853-f1f1-4aa9-a290-8f6f69c7655e",
     "showTitle": false,
     "title": ""
    }
   },
   "outputs": [],
   "source": [
    "# /FileStore/tables/sales_csv.txt\n",
    "# /FileStore/tables/menu_csv.txt"
   ]
  },
  {
   "cell_type": "code",
   "execution_count": 0,
   "metadata": {
    "application/vnd.databricks.v1+cell": {
     "cellMetadata": {
      "byteLimit": 2048000,
      "rowLimit": 10000
     },
     "inputWidgets": {},
     "nuid": "c40b10a2-4989-45a5-af9f-b6ef881bb19f",
     "showTitle": true,
     "title": "sales dataframe"
    }
   },
   "outputs": [
    {
     "output_type": "display_data",
     "data": {
      "text/html": [
       "<style scoped>\n",
       "  .table-result-container {\n",
       "    max-height: 300px;\n",
       "    overflow: auto;\n",
       "  }\n",
       "  table, th, td {\n",
       "    border: 1px solid black;\n",
       "    border-collapse: collapse;\n",
       "  }\n",
       "  th, td {\n",
       "    padding: 5px;\n",
       "  }\n",
       "  th {\n",
       "    text-align: left;\n",
       "  }\n",
       "</style><div class='table-result-container'><table class='table-result'><thead style='background-color: white'><tr><th>product_id</th><th>customer_id</th><th>order_date</th><th>location</th><th>source_order</th></tr></thead><tbody><tr><td>1</td><td>A</td><td>2023-01-01</td><td>India</td><td>Swiggy</td></tr><tr><td>2</td><td>A</td><td>2022-01-01</td><td>India</td><td>Swiggy</td></tr><tr><td>2</td><td>A</td><td>2023-01-07</td><td>India</td><td>Swiggy</td></tr><tr><td>3</td><td>A</td><td>2023-01-10</td><td>India</td><td>Restaurant</td></tr><tr><td>3</td><td>A</td><td>2022-01-11</td><td>India</td><td>Swiggy</td></tr><tr><td>3</td><td>A</td><td>2023-01-11</td><td>India</td><td>Restaurant</td></tr><tr><td>2</td><td>B</td><td>2022-02-01</td><td>India</td><td>Swiggy</td></tr><tr><td>2</td><td>B</td><td>2023-01-02</td><td>India</td><td>Swiggy</td></tr><tr><td>1</td><td>B</td><td>2023-01-04</td><td>India</td><td>Restaurant</td></tr><tr><td>1</td><td>B</td><td>2023-02-11</td><td>India</td><td>Swiggy</td></tr><tr><td>3</td><td>B</td><td>2023-01-16</td><td>India</td><td>zomato</td></tr><tr><td>3</td><td>B</td><td>2022-02-01</td><td>India</td><td>zomato</td></tr><tr><td>3</td><td>C</td><td>2023-01-01</td><td>India</td><td>zomato</td></tr><tr><td>1</td><td>C</td><td>2023-01-01</td><td>UK</td><td>Swiggy</td></tr><tr><td>6</td><td>C</td><td>2022-01-07</td><td>UK</td><td>zomato</td></tr><tr><td>3</td><td>D</td><td>2023-02-16</td><td>UK</td><td>Restaurant</td></tr><tr><td>5</td><td>D</td><td>2022-02-01</td><td>UK</td><td>zomato</td></tr><tr><td>3</td><td>E</td><td>2023-02-01</td><td>UK</td><td>Restaurant</td></tr><tr><td>4</td><td>E</td><td>2023-02-01</td><td>UK</td><td>Swiggy</td></tr><tr><td>4</td><td>E</td><td>2023-02-07</td><td>UK</td><td>Restaurant</td></tr><tr><td>2</td><td>A</td><td>2022-01-01</td><td>UK</td><td>Swiggy</td></tr><tr><td>2</td><td>A</td><td>2023-01-07</td><td>UK</td><td>Swiggy</td></tr><tr><td>3</td><td>A</td><td>2023-01-10</td><td>UK</td><td>Restaurant</td></tr><tr><td>3</td><td>A</td><td>2022-01-11</td><td>UK</td><td>Swiggy</td></tr><tr><td>3</td><td>A</td><td>2023-01-11</td><td>UK</td><td>zomato</td></tr><tr><td>2</td><td>B</td><td>2022-03-01</td><td>UK</td><td>zomato</td></tr><tr><td>2</td><td>B</td><td>2023-01-02</td><td>UK</td><td>zomato</td></tr><tr><td>1</td><td>B</td><td>2023-01-04</td><td>UK</td><td>Swiggy</td></tr><tr><td>1</td><td>B</td><td>2023-03-11</td><td>UK</td><td>Restaurant</td></tr><tr><td>3</td><td>B</td><td>2023-01-16</td><td>UK</td><td>Swiggy</td></tr><tr><td>3</td><td>B</td><td>2023-03-01</td><td>UK</td><td>Swiggy</td></tr><tr><td>3</td><td>C</td><td>2023-01-01</td><td>UK</td><td>Restaurant</td></tr><tr><td>1</td><td>C</td><td>2023-01-01</td><td>USA</td><td>Swiggy</td></tr><tr><td>6</td><td>C</td><td>2023-01-07</td><td>USA</td><td>zomato</td></tr><tr><td>3</td><td>D</td><td>2022-03-16</td><td>USA</td><td>zomato</td></tr><tr><td>5</td><td>D</td><td>2023-03-01</td><td>USA</td><td>zomato</td></tr><tr><td>3</td><td>E</td><td>2023-03-01</td><td>USA</td><td>Swiggy</td></tr><tr><td>4</td><td>E</td><td>2022-03-01</td><td>USA</td><td>zomato</td></tr><tr><td>4</td><td>E</td><td>2023-03-07</td><td>USA</td><td>zomato</td></tr><tr><td>1</td><td>A</td><td>2023-05-05</td><td>India</td><td>Swiggy</td></tr><tr><td>2</td><td>A</td><td>2022-05-05</td><td>India</td><td>Swiggy</td></tr><tr><td>2</td><td>A</td><td>2023-05-07</td><td>India</td><td>Swiggy</td></tr><tr><td>3</td><td>A</td><td>2023-05-10</td><td>India</td><td>Restaurant</td></tr><tr><td>3</td><td>A</td><td>2022-05-11</td><td>India</td><td>Swiggy</td></tr><tr><td>3</td><td>A</td><td>2023-05-11</td><td>India</td><td>Restaurant</td></tr><tr><td>2</td><td>B</td><td>2022-02-05</td><td>India</td><td>Swiggy</td></tr><tr><td>2</td><td>B</td><td>2023-05-02</td><td>India</td><td>Swiggy</td></tr><tr><td>1</td><td>B</td><td>2023-05-04</td><td>India</td><td>Restaurant</td></tr><tr><td>1</td><td>B</td><td>2023-02-11</td><td>India</td><td>Swiggy</td></tr><tr><td>3</td><td>B</td><td>2023-05-16</td><td>India</td><td>zomato</td></tr><tr><td>3</td><td>B</td><td>2022-02-05</td><td>India</td><td>zomato</td></tr><tr><td>3</td><td>C</td><td>2023-05-05</td><td>India</td><td>zomato</td></tr><tr><td>1</td><td>C</td><td>2023-05-05</td><td>UK</td><td>Swiggy</td></tr><tr><td>6</td><td>C</td><td>2022-05-07</td><td>UK</td><td>zomato</td></tr><tr><td>3</td><td>D</td><td>2023-02-16</td><td>UK</td><td>Restaurant</td></tr><tr><td>5</td><td>D</td><td>2022-02-05</td><td>UK</td><td>zomato</td></tr><tr><td>3</td><td>E</td><td>2023-02-05</td><td>UK</td><td>Restaurant</td></tr><tr><td>4</td><td>E</td><td>2023-02-05</td><td>UK</td><td>Swiggy</td></tr><tr><td>4</td><td>E</td><td>2023-02-07</td><td>UK</td><td>Restaurant</td></tr><tr><td>2</td><td>A</td><td>2022-05-05</td><td>UK</td><td>Swiggy</td></tr><tr><td>2</td><td>A</td><td>2023-05-07</td><td>UK</td><td>Swiggy</td></tr><tr><td>3</td><td>A</td><td>2023-05-10</td><td>UK</td><td>Restaurant</td></tr><tr><td>3</td><td>A</td><td>2022-05-11</td><td>UK</td><td>Swiggy</td></tr><tr><td>3</td><td>A</td><td>2023-05-11</td><td>UK</td><td>zomato</td></tr><tr><td>2</td><td>B</td><td>2022-07-05</td><td>UK</td><td>zomato</td></tr><tr><td>2</td><td>B</td><td>2023-05-02</td><td>UK</td><td>zomato</td></tr><tr><td>1</td><td>B</td><td>2023-05-04</td><td>UK</td><td>Swiggy</td></tr><tr><td>1</td><td>B</td><td>2023-07-11</td><td>UK</td><td>Restaurant</td></tr><tr><td>3</td><td>B</td><td>2023-05-16</td><td>UK</td><td>Swiggy</td></tr><tr><td>3</td><td>B</td><td>2023-07-05</td><td>UK</td><td>Swiggy</td></tr><tr><td>3</td><td>C</td><td>2023-05-05</td><td>UK</td><td>Restaurant</td></tr><tr><td>1</td><td>C</td><td>2023-05-05</td><td>USA</td><td>Swiggy</td></tr><tr><td>6</td><td>C</td><td>2023-05-07</td><td>USA</td><td>zomato</td></tr><tr><td>3</td><td>D</td><td>2022-07-16</td><td>USA</td><td>zomato</td></tr><tr><td>5</td><td>D</td><td>2023-07-05</td><td>USA</td><td>zomato</td></tr><tr><td>3</td><td>E</td><td>2023-07-05</td><td>USA</td><td>Swiggy</td></tr><tr><td>4</td><td>E</td><td>2022-07-05</td><td>USA</td><td>zomato</td></tr><tr><td>4</td><td>E</td><td>2023-07-07</td><td>USA</td><td>zomato</td></tr><tr><td>1</td><td>A</td><td>2023-06-06</td><td>India</td><td>Swiggy</td></tr><tr><td>2</td><td>A</td><td>2022-06-06</td><td>India</td><td>Swiggy</td></tr><tr><td>2</td><td>A</td><td>2023-06-11</td><td>India</td><td>Swiggy</td></tr><tr><td>3</td><td>A</td><td>2023-06-10</td><td>India</td><td>Restaurant</td></tr><tr><td>3</td><td>A</td><td>2022-06-11</td><td>India</td><td>Swiggy</td></tr><tr><td>3</td><td>A</td><td>2023-06-11</td><td>India</td><td>Restaurant</td></tr><tr><td>2</td><td>B</td><td>2022-02-06</td><td>India</td><td>Swiggy</td></tr><tr><td>2</td><td>B</td><td>2023-06-02</td><td>India</td><td>Swiggy</td></tr><tr><td>1</td><td>B</td><td>2023-06-04</td><td>India</td><td>Restaurant</td></tr><tr><td>1</td><td>B</td><td>2023-02-11</td><td>India</td><td>Swiggy</td></tr><tr><td>3</td><td>B</td><td>2023-06-16</td><td>India</td><td>zomato</td></tr><tr><td>3</td><td>B</td><td>2022-02-06</td><td>India</td><td>zomato</td></tr><tr><td>3</td><td>C</td><td>2023-06-06</td><td>India</td><td>zomato</td></tr><tr><td>1</td><td>C</td><td>2023-06-06</td><td>UK</td><td>Swiggy</td></tr><tr><td>6</td><td>C</td><td>2022-06-11</td><td>UK</td><td>zomato</td></tr><tr><td>3</td><td>D</td><td>2023-02-16</td><td>UK</td><td>Restaurant</td></tr><tr><td>5</td><td>D</td><td>2022-02-06</td><td>UK</td><td>zomato</td></tr><tr><td>3</td><td>E</td><td>2023-02-06</td><td>UK</td><td>Restaurant</td></tr><tr><td>4</td><td>E</td><td>2023-02-06</td><td>UK</td><td>Swiggy</td></tr><tr><td>4</td><td>E</td><td>2023-02-11</td><td>UK</td><td>Restaurant</td></tr><tr><td>2</td><td>A</td><td>2022-06-06</td><td>UK</td><td>Swiggy</td></tr><tr><td>2</td><td>A</td><td>2023-06-11</td><td>UK</td><td>Swiggy</td></tr><tr><td>3</td><td>A</td><td>2023-06-10</td><td>UK</td><td>Restaurant</td></tr><tr><td>3</td><td>A</td><td>2022-06-11</td><td>UK</td><td>Swiggy</td></tr><tr><td>3</td><td>A</td><td>2023-06-11</td><td>UK</td><td>zomato</td></tr><tr><td>2</td><td>B</td><td>2022-11-06</td><td>UK</td><td>zomato</td></tr><tr><td>2</td><td>B</td><td>2023-06-02</td><td>UK</td><td>zomato</td></tr><tr><td>1</td><td>B</td><td>2023-06-04</td><td>UK</td><td>Swiggy</td></tr><tr><td>1</td><td>B</td><td>2023-11-11</td><td>UK</td><td>Restaurant</td></tr><tr><td>3</td><td>B</td><td>2023-06-16</td><td>UK</td><td>Swiggy</td></tr><tr><td>3</td><td>B</td><td>2023-11-06</td><td>UK</td><td>Swiggy</td></tr><tr><td>3</td><td>C</td><td>2023-06-06</td><td>UK</td><td>Restaurant</td></tr><tr><td>1</td><td>C</td><td>2023-06-06</td><td>USA</td><td>Swiggy</td></tr><tr><td>6</td><td>C</td><td>2023-06-11</td><td>USA</td><td>zomato</td></tr><tr><td>3</td><td>D</td><td>2022-11-16</td><td>USA</td><td>zomato</td></tr><tr><td>5</td><td>D</td><td>2023-11-06</td><td>USA</td><td>zomato</td></tr><tr><td>3</td><td>E</td><td>2023-11-06</td><td>USA</td><td>Swiggy</td></tr><tr><td>4</td><td>E</td><td>2022-11-06</td><td>USA</td><td>zomato</td></tr><tr><td>4</td><td>E</td><td>2023-11-11</td><td>USA</td><td>zomato</td></tr></tbody></table></div>"
      ]
     },
     "metadata": {
      "application/vnd.databricks.v1+output": {
       "addedWidgets": {},
       "aggData": [],
       "aggError": "",
       "aggOverflow": false,
       "aggSchema": [],
       "aggSeriesLimitReached": false,
       "aggType": "",
       "arguments": {},
       "columnCustomDisplayInfos": {},
       "data": [
        [
         1,
         "A",
         "2023-01-01",
         "India",
         "Swiggy"
        ],
        [
         2,
         "A",
         "2022-01-01",
         "India",
         "Swiggy"
        ],
        [
         2,
         "A",
         "2023-01-07",
         "India",
         "Swiggy"
        ],
        [
         3,
         "A",
         "2023-01-10",
         "India",
         "Restaurant"
        ],
        [
         3,
         "A",
         "2022-01-11",
         "India",
         "Swiggy"
        ],
        [
         3,
         "A",
         "2023-01-11",
         "India",
         "Restaurant"
        ],
        [
         2,
         "B",
         "2022-02-01",
         "India",
         "Swiggy"
        ],
        [
         2,
         "B",
         "2023-01-02",
         "India",
         "Swiggy"
        ],
        [
         1,
         "B",
         "2023-01-04",
         "India",
         "Restaurant"
        ],
        [
         1,
         "B",
         "2023-02-11",
         "India",
         "Swiggy"
        ],
        [
         3,
         "B",
         "2023-01-16",
         "India",
         "zomato"
        ],
        [
         3,
         "B",
         "2022-02-01",
         "India",
         "zomato"
        ],
        [
         3,
         "C",
         "2023-01-01",
         "India",
         "zomato"
        ],
        [
         1,
         "C",
         "2023-01-01",
         "UK",
         "Swiggy"
        ],
        [
         6,
         "C",
         "2022-01-07",
         "UK",
         "zomato"
        ],
        [
         3,
         "D",
         "2023-02-16",
         "UK",
         "Restaurant"
        ],
        [
         5,
         "D",
         "2022-02-01",
         "UK",
         "zomato"
        ],
        [
         3,
         "E",
         "2023-02-01",
         "UK",
         "Restaurant"
        ],
        [
         4,
         "E",
         "2023-02-01",
         "UK",
         "Swiggy"
        ],
        [
         4,
         "E",
         "2023-02-07",
         "UK",
         "Restaurant"
        ],
        [
         2,
         "A",
         "2022-01-01",
         "UK",
         "Swiggy"
        ],
        [
         2,
         "A",
         "2023-01-07",
         "UK",
         "Swiggy"
        ],
        [
         3,
         "A",
         "2023-01-10",
         "UK",
         "Restaurant"
        ],
        [
         3,
         "A",
         "2022-01-11",
         "UK",
         "Swiggy"
        ],
        [
         3,
         "A",
         "2023-01-11",
         "UK",
         "zomato"
        ],
        [
         2,
         "B",
         "2022-03-01",
         "UK",
         "zomato"
        ],
        [
         2,
         "B",
         "2023-01-02",
         "UK",
         "zomato"
        ],
        [
         1,
         "B",
         "2023-01-04",
         "UK",
         "Swiggy"
        ],
        [
         1,
         "B",
         "2023-03-11",
         "UK",
         "Restaurant"
        ],
        [
         3,
         "B",
         "2023-01-16",
         "UK",
         "Swiggy"
        ],
        [
         3,
         "B",
         "2023-03-01",
         "UK",
         "Swiggy"
        ],
        [
         3,
         "C",
         "2023-01-01",
         "UK",
         "Restaurant"
        ],
        [
         1,
         "C",
         "2023-01-01",
         "USA",
         "Swiggy"
        ],
        [
         6,
         "C",
         "2023-01-07",
         "USA",
         "zomato"
        ],
        [
         3,
         "D",
         "2022-03-16",
         "USA",
         "zomato"
        ],
        [
         5,
         "D",
         "2023-03-01",
         "USA",
         "zomato"
        ],
        [
         3,
         "E",
         "2023-03-01",
         "USA",
         "Swiggy"
        ],
        [
         4,
         "E",
         "2022-03-01",
         "USA",
         "zomato"
        ],
        [
         4,
         "E",
         "2023-03-07",
         "USA",
         "zomato"
        ],
        [
         1,
         "A",
         "2023-05-05",
         "India",
         "Swiggy"
        ],
        [
         2,
         "A",
         "2022-05-05",
         "India",
         "Swiggy"
        ],
        [
         2,
         "A",
         "2023-05-07",
         "India",
         "Swiggy"
        ],
        [
         3,
         "A",
         "2023-05-10",
         "India",
         "Restaurant"
        ],
        [
         3,
         "A",
         "2022-05-11",
         "India",
         "Swiggy"
        ],
        [
         3,
         "A",
         "2023-05-11",
         "India",
         "Restaurant"
        ],
        [
         2,
         "B",
         "2022-02-05",
         "India",
         "Swiggy"
        ],
        [
         2,
         "B",
         "2023-05-02",
         "India",
         "Swiggy"
        ],
        [
         1,
         "B",
         "2023-05-04",
         "India",
         "Restaurant"
        ],
        [
         1,
         "B",
         "2023-02-11",
         "India",
         "Swiggy"
        ],
        [
         3,
         "B",
         "2023-05-16",
         "India",
         "zomato"
        ],
        [
         3,
         "B",
         "2022-02-05",
         "India",
         "zomato"
        ],
        [
         3,
         "C",
         "2023-05-05",
         "India",
         "zomato"
        ],
        [
         1,
         "C",
         "2023-05-05",
         "UK",
         "Swiggy"
        ],
        [
         6,
         "C",
         "2022-05-07",
         "UK",
         "zomato"
        ],
        [
         3,
         "D",
         "2023-02-16",
         "UK",
         "Restaurant"
        ],
        [
         5,
         "D",
         "2022-02-05",
         "UK",
         "zomato"
        ],
        [
         3,
         "E",
         "2023-02-05",
         "UK",
         "Restaurant"
        ],
        [
         4,
         "E",
         "2023-02-05",
         "UK",
         "Swiggy"
        ],
        [
         4,
         "E",
         "2023-02-07",
         "UK",
         "Restaurant"
        ],
        [
         2,
         "A",
         "2022-05-05",
         "UK",
         "Swiggy"
        ],
        [
         2,
         "A",
         "2023-05-07",
         "UK",
         "Swiggy"
        ],
        [
         3,
         "A",
         "2023-05-10",
         "UK",
         "Restaurant"
        ],
        [
         3,
         "A",
         "2022-05-11",
         "UK",
         "Swiggy"
        ],
        [
         3,
         "A",
         "2023-05-11",
         "UK",
         "zomato"
        ],
        [
         2,
         "B",
         "2022-07-05",
         "UK",
         "zomato"
        ],
        [
         2,
         "B",
         "2023-05-02",
         "UK",
         "zomato"
        ],
        [
         1,
         "B",
         "2023-05-04",
         "UK",
         "Swiggy"
        ],
        [
         1,
         "B",
         "2023-07-11",
         "UK",
         "Restaurant"
        ],
        [
         3,
         "B",
         "2023-05-16",
         "UK",
         "Swiggy"
        ],
        [
         3,
         "B",
         "2023-07-05",
         "UK",
         "Swiggy"
        ],
        [
         3,
         "C",
         "2023-05-05",
         "UK",
         "Restaurant"
        ],
        [
         1,
         "C",
         "2023-05-05",
         "USA",
         "Swiggy"
        ],
        [
         6,
         "C",
         "2023-05-07",
         "USA",
         "zomato"
        ],
        [
         3,
         "D",
         "2022-07-16",
         "USA",
         "zomato"
        ],
        [
         5,
         "D",
         "2023-07-05",
         "USA",
         "zomato"
        ],
        [
         3,
         "E",
         "2023-07-05",
         "USA",
         "Swiggy"
        ],
        [
         4,
         "E",
         "2022-07-05",
         "USA",
         "zomato"
        ],
        [
         4,
         "E",
         "2023-07-07",
         "USA",
         "zomato"
        ],
        [
         1,
         "A",
         "2023-06-06",
         "India",
         "Swiggy"
        ],
        [
         2,
         "A",
         "2022-06-06",
         "India",
         "Swiggy"
        ],
        [
         2,
         "A",
         "2023-06-11",
         "India",
         "Swiggy"
        ],
        [
         3,
         "A",
         "2023-06-10",
         "India",
         "Restaurant"
        ],
        [
         3,
         "A",
         "2022-06-11",
         "India",
         "Swiggy"
        ],
        [
         3,
         "A",
         "2023-06-11",
         "India",
         "Restaurant"
        ],
        [
         2,
         "B",
         "2022-02-06",
         "India",
         "Swiggy"
        ],
        [
         2,
         "B",
         "2023-06-02",
         "India",
         "Swiggy"
        ],
        [
         1,
         "B",
         "2023-06-04",
         "India",
         "Restaurant"
        ],
        [
         1,
         "B",
         "2023-02-11",
         "India",
         "Swiggy"
        ],
        [
         3,
         "B",
         "2023-06-16",
         "India",
         "zomato"
        ],
        [
         3,
         "B",
         "2022-02-06",
         "India",
         "zomato"
        ],
        [
         3,
         "C",
         "2023-06-06",
         "India",
         "zomato"
        ],
        [
         1,
         "C",
         "2023-06-06",
         "UK",
         "Swiggy"
        ],
        [
         6,
         "C",
         "2022-06-11",
         "UK",
         "zomato"
        ],
        [
         3,
         "D",
         "2023-02-16",
         "UK",
         "Restaurant"
        ],
        [
         5,
         "D",
         "2022-02-06",
         "UK",
         "zomato"
        ],
        [
         3,
         "E",
         "2023-02-06",
         "UK",
         "Restaurant"
        ],
        [
         4,
         "E",
         "2023-02-06",
         "UK",
         "Swiggy"
        ],
        [
         4,
         "E",
         "2023-02-11",
         "UK",
         "Restaurant"
        ],
        [
         2,
         "A",
         "2022-06-06",
         "UK",
         "Swiggy"
        ],
        [
         2,
         "A",
         "2023-06-11",
         "UK",
         "Swiggy"
        ],
        [
         3,
         "A",
         "2023-06-10",
         "UK",
         "Restaurant"
        ],
        [
         3,
         "A",
         "2022-06-11",
         "UK",
         "Swiggy"
        ],
        [
         3,
         "A",
         "2023-06-11",
         "UK",
         "zomato"
        ],
        [
         2,
         "B",
         "2022-11-06",
         "UK",
         "zomato"
        ],
        [
         2,
         "B",
         "2023-06-02",
         "UK",
         "zomato"
        ],
        [
         1,
         "B",
         "2023-06-04",
         "UK",
         "Swiggy"
        ],
        [
         1,
         "B",
         "2023-11-11",
         "UK",
         "Restaurant"
        ],
        [
         3,
         "B",
         "2023-06-16",
         "UK",
         "Swiggy"
        ],
        [
         3,
         "B",
         "2023-11-06",
         "UK",
         "Swiggy"
        ],
        [
         3,
         "C",
         "2023-06-06",
         "UK",
         "Restaurant"
        ],
        [
         1,
         "C",
         "2023-06-06",
         "USA",
         "Swiggy"
        ],
        [
         6,
         "C",
         "2023-06-11",
         "USA",
         "zomato"
        ],
        [
         3,
         "D",
         "2022-11-16",
         "USA",
         "zomato"
        ],
        [
         5,
         "D",
         "2023-11-06",
         "USA",
         "zomato"
        ],
        [
         3,
         "E",
         "2023-11-06",
         "USA",
         "Swiggy"
        ],
        [
         4,
         "E",
         "2022-11-06",
         "USA",
         "zomato"
        ],
        [
         4,
         "E",
         "2023-11-11",
         "USA",
         "zomato"
        ]
       ],
       "datasetInfos": [],
       "dbfsResultPath": null,
       "isJsonSchema": true,
       "metadata": {},
       "overflow": false,
       "plotOptions": {
        "customPlotOptions": {},
        "displayType": "table",
        "pivotAggregation": null,
        "pivotColumns": null,
        "xColumns": null,
        "yColumns": null
       },
       "removedWidgets": [],
       "schema": [
        {
         "metadata": "{}",
         "name": "product_id",
         "type": "\"integer\""
        },
        {
         "metadata": "{}",
         "name": "customer_id",
         "type": "\"string\""
        },
        {
         "metadata": "{}",
         "name": "order_date",
         "type": "\"date\""
        },
        {
         "metadata": "{}",
         "name": "location",
         "type": "\"string\""
        },
        {
         "metadata": "{}",
         "name": "source_order",
         "type": "\"string\""
        }
       ],
       "type": "table"
      }
     },
     "output_type": "display_data"
    }
   ],
   "source": [
    "from pyspark.sql.types import StructType, StructField, IntegerType, StringType, DateType\n",
    "\n",
    "schema = StructType([\n",
    "    StructField(\"product_id\", IntegerType(), True),\n",
    "    StructField(\"customer_id\", StringType(), True),\n",
    "    StructField(\"order_date\", DateType(), True),\n",
    "    StructField(\"location\", StringType(), True),\n",
    "    StructField(\"source_order\", StringType(), True)\n",
    "\n",
    "])\n",
    "\n",
    "sales_df = spark.read.format(\"csv\").option(\"infershema\", \"true\").schema(schema).load(\"/FileStore/tables/sales_csv.txt\")\n",
    "display(sales_df)"
   ]
  },
  {
   "cell_type": "code",
   "execution_count": 0,
   "metadata": {
    "application/vnd.databricks.v1+cell": {
     "cellMetadata": {
      "byteLimit": 2048000,
      "rowLimit": 10000
     },
     "inputWidgets": {},
     "nuid": "d26877f3-5674-469a-a50b-f910a95588fa",
     "showTitle": true,
     "title": "deriving year month, quarter"
    }
   },
   "outputs": [
    {
     "output_type": "display_data",
     "data": {
      "text/html": [
       "<style scoped>\n",
       "  .table-result-container {\n",
       "    max-height: 300px;\n",
       "    overflow: auto;\n",
       "  }\n",
       "  table, th, td {\n",
       "    border: 1px solid black;\n",
       "    border-collapse: collapse;\n",
       "  }\n",
       "  th, td {\n",
       "    padding: 5px;\n",
       "  }\n",
       "  th {\n",
       "    text-align: left;\n",
       "  }\n",
       "</style><div class='table-result-container'><table class='table-result'><thead style='background-color: white'><tr><th>product_id</th><th>customer_id</th><th>order_date</th><th>location</th><th>source_order</th><th>order_year</th><th>order_month</th><th>order_quarter</th></tr></thead><tbody><tr><td>1</td><td>A</td><td>2023-01-01</td><td>India</td><td>Swiggy</td><td>2023</td><td>1</td><td>1</td></tr><tr><td>2</td><td>A</td><td>2022-01-01</td><td>India</td><td>Swiggy</td><td>2022</td><td>1</td><td>1</td></tr><tr><td>2</td><td>A</td><td>2023-01-07</td><td>India</td><td>Swiggy</td><td>2023</td><td>1</td><td>1</td></tr><tr><td>3</td><td>A</td><td>2023-01-10</td><td>India</td><td>Restaurant</td><td>2023</td><td>1</td><td>1</td></tr><tr><td>3</td><td>A</td><td>2022-01-11</td><td>India</td><td>Swiggy</td><td>2022</td><td>1</td><td>1</td></tr><tr><td>3</td><td>A</td><td>2023-01-11</td><td>India</td><td>Restaurant</td><td>2023</td><td>1</td><td>1</td></tr><tr><td>2</td><td>B</td><td>2022-02-01</td><td>India</td><td>Swiggy</td><td>2022</td><td>2</td><td>1</td></tr><tr><td>2</td><td>B</td><td>2023-01-02</td><td>India</td><td>Swiggy</td><td>2023</td><td>1</td><td>1</td></tr><tr><td>1</td><td>B</td><td>2023-01-04</td><td>India</td><td>Restaurant</td><td>2023</td><td>1</td><td>1</td></tr><tr><td>1</td><td>B</td><td>2023-02-11</td><td>India</td><td>Swiggy</td><td>2023</td><td>2</td><td>1</td></tr><tr><td>3</td><td>B</td><td>2023-01-16</td><td>India</td><td>zomato</td><td>2023</td><td>1</td><td>1</td></tr><tr><td>3</td><td>B</td><td>2022-02-01</td><td>India</td><td>zomato</td><td>2022</td><td>2</td><td>1</td></tr><tr><td>3</td><td>C</td><td>2023-01-01</td><td>India</td><td>zomato</td><td>2023</td><td>1</td><td>1</td></tr><tr><td>1</td><td>C</td><td>2023-01-01</td><td>UK</td><td>Swiggy</td><td>2023</td><td>1</td><td>1</td></tr><tr><td>6</td><td>C</td><td>2022-01-07</td><td>UK</td><td>zomato</td><td>2022</td><td>1</td><td>1</td></tr><tr><td>3</td><td>D</td><td>2023-02-16</td><td>UK</td><td>Restaurant</td><td>2023</td><td>2</td><td>1</td></tr><tr><td>5</td><td>D</td><td>2022-02-01</td><td>UK</td><td>zomato</td><td>2022</td><td>2</td><td>1</td></tr><tr><td>3</td><td>E</td><td>2023-02-01</td><td>UK</td><td>Restaurant</td><td>2023</td><td>2</td><td>1</td></tr><tr><td>4</td><td>E</td><td>2023-02-01</td><td>UK</td><td>Swiggy</td><td>2023</td><td>2</td><td>1</td></tr><tr><td>4</td><td>E</td><td>2023-02-07</td><td>UK</td><td>Restaurant</td><td>2023</td><td>2</td><td>1</td></tr><tr><td>2</td><td>A</td><td>2022-01-01</td><td>UK</td><td>Swiggy</td><td>2022</td><td>1</td><td>1</td></tr><tr><td>2</td><td>A</td><td>2023-01-07</td><td>UK</td><td>Swiggy</td><td>2023</td><td>1</td><td>1</td></tr><tr><td>3</td><td>A</td><td>2023-01-10</td><td>UK</td><td>Restaurant</td><td>2023</td><td>1</td><td>1</td></tr><tr><td>3</td><td>A</td><td>2022-01-11</td><td>UK</td><td>Swiggy</td><td>2022</td><td>1</td><td>1</td></tr><tr><td>3</td><td>A</td><td>2023-01-11</td><td>UK</td><td>zomato</td><td>2023</td><td>1</td><td>1</td></tr><tr><td>2</td><td>B</td><td>2022-03-01</td><td>UK</td><td>zomato</td><td>2022</td><td>3</td><td>1</td></tr><tr><td>2</td><td>B</td><td>2023-01-02</td><td>UK</td><td>zomato</td><td>2023</td><td>1</td><td>1</td></tr><tr><td>1</td><td>B</td><td>2023-01-04</td><td>UK</td><td>Swiggy</td><td>2023</td><td>1</td><td>1</td></tr><tr><td>1</td><td>B</td><td>2023-03-11</td><td>UK</td><td>Restaurant</td><td>2023</td><td>3</td><td>1</td></tr><tr><td>3</td><td>B</td><td>2023-01-16</td><td>UK</td><td>Swiggy</td><td>2023</td><td>1</td><td>1</td></tr><tr><td>3</td><td>B</td><td>2023-03-01</td><td>UK</td><td>Swiggy</td><td>2023</td><td>3</td><td>1</td></tr><tr><td>3</td><td>C</td><td>2023-01-01</td><td>UK</td><td>Restaurant</td><td>2023</td><td>1</td><td>1</td></tr><tr><td>1</td><td>C</td><td>2023-01-01</td><td>USA</td><td>Swiggy</td><td>2023</td><td>1</td><td>1</td></tr><tr><td>6</td><td>C</td><td>2023-01-07</td><td>USA</td><td>zomato</td><td>2023</td><td>1</td><td>1</td></tr><tr><td>3</td><td>D</td><td>2022-03-16</td><td>USA</td><td>zomato</td><td>2022</td><td>3</td><td>1</td></tr><tr><td>5</td><td>D</td><td>2023-03-01</td><td>USA</td><td>zomato</td><td>2023</td><td>3</td><td>1</td></tr><tr><td>3</td><td>E</td><td>2023-03-01</td><td>USA</td><td>Swiggy</td><td>2023</td><td>3</td><td>1</td></tr><tr><td>4</td><td>E</td><td>2022-03-01</td><td>USA</td><td>zomato</td><td>2022</td><td>3</td><td>1</td></tr><tr><td>4</td><td>E</td><td>2023-03-07</td><td>USA</td><td>zomato</td><td>2023</td><td>3</td><td>1</td></tr><tr><td>1</td><td>A</td><td>2023-05-05</td><td>India</td><td>Swiggy</td><td>2023</td><td>5</td><td>2</td></tr><tr><td>2</td><td>A</td><td>2022-05-05</td><td>India</td><td>Swiggy</td><td>2022</td><td>5</td><td>2</td></tr><tr><td>2</td><td>A</td><td>2023-05-07</td><td>India</td><td>Swiggy</td><td>2023</td><td>5</td><td>2</td></tr><tr><td>3</td><td>A</td><td>2023-05-10</td><td>India</td><td>Restaurant</td><td>2023</td><td>5</td><td>2</td></tr><tr><td>3</td><td>A</td><td>2022-05-11</td><td>India</td><td>Swiggy</td><td>2022</td><td>5</td><td>2</td></tr><tr><td>3</td><td>A</td><td>2023-05-11</td><td>India</td><td>Restaurant</td><td>2023</td><td>5</td><td>2</td></tr><tr><td>2</td><td>B</td><td>2022-02-05</td><td>India</td><td>Swiggy</td><td>2022</td><td>2</td><td>1</td></tr><tr><td>2</td><td>B</td><td>2023-05-02</td><td>India</td><td>Swiggy</td><td>2023</td><td>5</td><td>2</td></tr><tr><td>1</td><td>B</td><td>2023-05-04</td><td>India</td><td>Restaurant</td><td>2023</td><td>5</td><td>2</td></tr><tr><td>1</td><td>B</td><td>2023-02-11</td><td>India</td><td>Swiggy</td><td>2023</td><td>2</td><td>1</td></tr><tr><td>3</td><td>B</td><td>2023-05-16</td><td>India</td><td>zomato</td><td>2023</td><td>5</td><td>2</td></tr><tr><td>3</td><td>B</td><td>2022-02-05</td><td>India</td><td>zomato</td><td>2022</td><td>2</td><td>1</td></tr><tr><td>3</td><td>C</td><td>2023-05-05</td><td>India</td><td>zomato</td><td>2023</td><td>5</td><td>2</td></tr><tr><td>1</td><td>C</td><td>2023-05-05</td><td>UK</td><td>Swiggy</td><td>2023</td><td>5</td><td>2</td></tr><tr><td>6</td><td>C</td><td>2022-05-07</td><td>UK</td><td>zomato</td><td>2022</td><td>5</td><td>2</td></tr><tr><td>3</td><td>D</td><td>2023-02-16</td><td>UK</td><td>Restaurant</td><td>2023</td><td>2</td><td>1</td></tr><tr><td>5</td><td>D</td><td>2022-02-05</td><td>UK</td><td>zomato</td><td>2022</td><td>2</td><td>1</td></tr><tr><td>3</td><td>E</td><td>2023-02-05</td><td>UK</td><td>Restaurant</td><td>2023</td><td>2</td><td>1</td></tr><tr><td>4</td><td>E</td><td>2023-02-05</td><td>UK</td><td>Swiggy</td><td>2023</td><td>2</td><td>1</td></tr><tr><td>4</td><td>E</td><td>2023-02-07</td><td>UK</td><td>Restaurant</td><td>2023</td><td>2</td><td>1</td></tr><tr><td>2</td><td>A</td><td>2022-05-05</td><td>UK</td><td>Swiggy</td><td>2022</td><td>5</td><td>2</td></tr><tr><td>2</td><td>A</td><td>2023-05-07</td><td>UK</td><td>Swiggy</td><td>2023</td><td>5</td><td>2</td></tr><tr><td>3</td><td>A</td><td>2023-05-10</td><td>UK</td><td>Restaurant</td><td>2023</td><td>5</td><td>2</td></tr><tr><td>3</td><td>A</td><td>2022-05-11</td><td>UK</td><td>Swiggy</td><td>2022</td><td>5</td><td>2</td></tr><tr><td>3</td><td>A</td><td>2023-05-11</td><td>UK</td><td>zomato</td><td>2023</td><td>5</td><td>2</td></tr><tr><td>2</td><td>B</td><td>2022-07-05</td><td>UK</td><td>zomato</td><td>2022</td><td>7</td><td>3</td></tr><tr><td>2</td><td>B</td><td>2023-05-02</td><td>UK</td><td>zomato</td><td>2023</td><td>5</td><td>2</td></tr><tr><td>1</td><td>B</td><td>2023-05-04</td><td>UK</td><td>Swiggy</td><td>2023</td><td>5</td><td>2</td></tr><tr><td>1</td><td>B</td><td>2023-07-11</td><td>UK</td><td>Restaurant</td><td>2023</td><td>7</td><td>3</td></tr><tr><td>3</td><td>B</td><td>2023-05-16</td><td>UK</td><td>Swiggy</td><td>2023</td><td>5</td><td>2</td></tr><tr><td>3</td><td>B</td><td>2023-07-05</td><td>UK</td><td>Swiggy</td><td>2023</td><td>7</td><td>3</td></tr><tr><td>3</td><td>C</td><td>2023-05-05</td><td>UK</td><td>Restaurant</td><td>2023</td><td>5</td><td>2</td></tr><tr><td>1</td><td>C</td><td>2023-05-05</td><td>USA</td><td>Swiggy</td><td>2023</td><td>5</td><td>2</td></tr><tr><td>6</td><td>C</td><td>2023-05-07</td><td>USA</td><td>zomato</td><td>2023</td><td>5</td><td>2</td></tr><tr><td>3</td><td>D</td><td>2022-07-16</td><td>USA</td><td>zomato</td><td>2022</td><td>7</td><td>3</td></tr><tr><td>5</td><td>D</td><td>2023-07-05</td><td>USA</td><td>zomato</td><td>2023</td><td>7</td><td>3</td></tr><tr><td>3</td><td>E</td><td>2023-07-05</td><td>USA</td><td>Swiggy</td><td>2023</td><td>7</td><td>3</td></tr><tr><td>4</td><td>E</td><td>2022-07-05</td><td>USA</td><td>zomato</td><td>2022</td><td>7</td><td>3</td></tr><tr><td>4</td><td>E</td><td>2023-07-07</td><td>USA</td><td>zomato</td><td>2023</td><td>7</td><td>3</td></tr><tr><td>1</td><td>A</td><td>2023-06-06</td><td>India</td><td>Swiggy</td><td>2023</td><td>6</td><td>2</td></tr><tr><td>2</td><td>A</td><td>2022-06-06</td><td>India</td><td>Swiggy</td><td>2022</td><td>6</td><td>2</td></tr><tr><td>2</td><td>A</td><td>2023-06-11</td><td>India</td><td>Swiggy</td><td>2023</td><td>6</td><td>2</td></tr><tr><td>3</td><td>A</td><td>2023-06-10</td><td>India</td><td>Restaurant</td><td>2023</td><td>6</td><td>2</td></tr><tr><td>3</td><td>A</td><td>2022-06-11</td><td>India</td><td>Swiggy</td><td>2022</td><td>6</td><td>2</td></tr><tr><td>3</td><td>A</td><td>2023-06-11</td><td>India</td><td>Restaurant</td><td>2023</td><td>6</td><td>2</td></tr><tr><td>2</td><td>B</td><td>2022-02-06</td><td>India</td><td>Swiggy</td><td>2022</td><td>2</td><td>1</td></tr><tr><td>2</td><td>B</td><td>2023-06-02</td><td>India</td><td>Swiggy</td><td>2023</td><td>6</td><td>2</td></tr><tr><td>1</td><td>B</td><td>2023-06-04</td><td>India</td><td>Restaurant</td><td>2023</td><td>6</td><td>2</td></tr><tr><td>1</td><td>B</td><td>2023-02-11</td><td>India</td><td>Swiggy</td><td>2023</td><td>2</td><td>1</td></tr><tr><td>3</td><td>B</td><td>2023-06-16</td><td>India</td><td>zomato</td><td>2023</td><td>6</td><td>2</td></tr><tr><td>3</td><td>B</td><td>2022-02-06</td><td>India</td><td>zomato</td><td>2022</td><td>2</td><td>1</td></tr><tr><td>3</td><td>C</td><td>2023-06-06</td><td>India</td><td>zomato</td><td>2023</td><td>6</td><td>2</td></tr><tr><td>1</td><td>C</td><td>2023-06-06</td><td>UK</td><td>Swiggy</td><td>2023</td><td>6</td><td>2</td></tr><tr><td>6</td><td>C</td><td>2022-06-11</td><td>UK</td><td>zomato</td><td>2022</td><td>6</td><td>2</td></tr><tr><td>3</td><td>D</td><td>2023-02-16</td><td>UK</td><td>Restaurant</td><td>2023</td><td>2</td><td>1</td></tr><tr><td>5</td><td>D</td><td>2022-02-06</td><td>UK</td><td>zomato</td><td>2022</td><td>2</td><td>1</td></tr><tr><td>3</td><td>E</td><td>2023-02-06</td><td>UK</td><td>Restaurant</td><td>2023</td><td>2</td><td>1</td></tr><tr><td>4</td><td>E</td><td>2023-02-06</td><td>UK</td><td>Swiggy</td><td>2023</td><td>2</td><td>1</td></tr><tr><td>4</td><td>E</td><td>2023-02-11</td><td>UK</td><td>Restaurant</td><td>2023</td><td>2</td><td>1</td></tr><tr><td>2</td><td>A</td><td>2022-06-06</td><td>UK</td><td>Swiggy</td><td>2022</td><td>6</td><td>2</td></tr><tr><td>2</td><td>A</td><td>2023-06-11</td><td>UK</td><td>Swiggy</td><td>2023</td><td>6</td><td>2</td></tr><tr><td>3</td><td>A</td><td>2023-06-10</td><td>UK</td><td>Restaurant</td><td>2023</td><td>6</td><td>2</td></tr><tr><td>3</td><td>A</td><td>2022-06-11</td><td>UK</td><td>Swiggy</td><td>2022</td><td>6</td><td>2</td></tr><tr><td>3</td><td>A</td><td>2023-06-11</td><td>UK</td><td>zomato</td><td>2023</td><td>6</td><td>2</td></tr><tr><td>2</td><td>B</td><td>2022-11-06</td><td>UK</td><td>zomato</td><td>2022</td><td>11</td><td>4</td></tr><tr><td>2</td><td>B</td><td>2023-06-02</td><td>UK</td><td>zomato</td><td>2023</td><td>6</td><td>2</td></tr><tr><td>1</td><td>B</td><td>2023-06-04</td><td>UK</td><td>Swiggy</td><td>2023</td><td>6</td><td>2</td></tr><tr><td>1</td><td>B</td><td>2023-11-11</td><td>UK</td><td>Restaurant</td><td>2023</td><td>11</td><td>4</td></tr><tr><td>3</td><td>B</td><td>2023-06-16</td><td>UK</td><td>Swiggy</td><td>2023</td><td>6</td><td>2</td></tr><tr><td>3</td><td>B</td><td>2023-11-06</td><td>UK</td><td>Swiggy</td><td>2023</td><td>11</td><td>4</td></tr><tr><td>3</td><td>C</td><td>2023-06-06</td><td>UK</td><td>Restaurant</td><td>2023</td><td>6</td><td>2</td></tr><tr><td>1</td><td>C</td><td>2023-06-06</td><td>USA</td><td>Swiggy</td><td>2023</td><td>6</td><td>2</td></tr><tr><td>6</td><td>C</td><td>2023-06-11</td><td>USA</td><td>zomato</td><td>2023</td><td>6</td><td>2</td></tr><tr><td>3</td><td>D</td><td>2022-11-16</td><td>USA</td><td>zomato</td><td>2022</td><td>11</td><td>4</td></tr><tr><td>5</td><td>D</td><td>2023-11-06</td><td>USA</td><td>zomato</td><td>2023</td><td>11</td><td>4</td></tr><tr><td>3</td><td>E</td><td>2023-11-06</td><td>USA</td><td>Swiggy</td><td>2023</td><td>11</td><td>4</td></tr><tr><td>4</td><td>E</td><td>2022-11-06</td><td>USA</td><td>zomato</td><td>2022</td><td>11</td><td>4</td></tr><tr><td>4</td><td>E</td><td>2023-11-11</td><td>USA</td><td>zomato</td><td>2023</td><td>11</td><td>4</td></tr></tbody></table></div>"
      ]
     },
     "metadata": {
      "application/vnd.databricks.v1+output": {
       "addedWidgets": {},
       "aggData": [],
       "aggError": "",
       "aggOverflow": false,
       "aggSchema": [],
       "aggSeriesLimitReached": false,
       "aggType": "",
       "arguments": {},
       "columnCustomDisplayInfos": {},
       "data": [
        [
         1,
         "A",
         "2023-01-01",
         "India",
         "Swiggy",
         2023,
         1,
         1
        ],
        [
         2,
         "A",
         "2022-01-01",
         "India",
         "Swiggy",
         2022,
         1,
         1
        ],
        [
         2,
         "A",
         "2023-01-07",
         "India",
         "Swiggy",
         2023,
         1,
         1
        ],
        [
         3,
         "A",
         "2023-01-10",
         "India",
         "Restaurant",
         2023,
         1,
         1
        ],
        [
         3,
         "A",
         "2022-01-11",
         "India",
         "Swiggy",
         2022,
         1,
         1
        ],
        [
         3,
         "A",
         "2023-01-11",
         "India",
         "Restaurant",
         2023,
         1,
         1
        ],
        [
         2,
         "B",
         "2022-02-01",
         "India",
         "Swiggy",
         2022,
         2,
         1
        ],
        [
         2,
         "B",
         "2023-01-02",
         "India",
         "Swiggy",
         2023,
         1,
         1
        ],
        [
         1,
         "B",
         "2023-01-04",
         "India",
         "Restaurant",
         2023,
         1,
         1
        ],
        [
         1,
         "B",
         "2023-02-11",
         "India",
         "Swiggy",
         2023,
         2,
         1
        ],
        [
         3,
         "B",
         "2023-01-16",
         "India",
         "zomato",
         2023,
         1,
         1
        ],
        [
         3,
         "B",
         "2022-02-01",
         "India",
         "zomato",
         2022,
         2,
         1
        ],
        [
         3,
         "C",
         "2023-01-01",
         "India",
         "zomato",
         2023,
         1,
         1
        ],
        [
         1,
         "C",
         "2023-01-01",
         "UK",
         "Swiggy",
         2023,
         1,
         1
        ],
        [
         6,
         "C",
         "2022-01-07",
         "UK",
         "zomato",
         2022,
         1,
         1
        ],
        [
         3,
         "D",
         "2023-02-16",
         "UK",
         "Restaurant",
         2023,
         2,
         1
        ],
        [
         5,
         "D",
         "2022-02-01",
         "UK",
         "zomato",
         2022,
         2,
         1
        ],
        [
         3,
         "E",
         "2023-02-01",
         "UK",
         "Restaurant",
         2023,
         2,
         1
        ],
        [
         4,
         "E",
         "2023-02-01",
         "UK",
         "Swiggy",
         2023,
         2,
         1
        ],
        [
         4,
         "E",
         "2023-02-07",
         "UK",
         "Restaurant",
         2023,
         2,
         1
        ],
        [
         2,
         "A",
         "2022-01-01",
         "UK",
         "Swiggy",
         2022,
         1,
         1
        ],
        [
         2,
         "A",
         "2023-01-07",
         "UK",
         "Swiggy",
         2023,
         1,
         1
        ],
        [
         3,
         "A",
         "2023-01-10",
         "UK",
         "Restaurant",
         2023,
         1,
         1
        ],
        [
         3,
         "A",
         "2022-01-11",
         "UK",
         "Swiggy",
         2022,
         1,
         1
        ],
        [
         3,
         "A",
         "2023-01-11",
         "UK",
         "zomato",
         2023,
         1,
         1
        ],
        [
         2,
         "B",
         "2022-03-01",
         "UK",
         "zomato",
         2022,
         3,
         1
        ],
        [
         2,
         "B",
         "2023-01-02",
         "UK",
         "zomato",
         2023,
         1,
         1
        ],
        [
         1,
         "B",
         "2023-01-04",
         "UK",
         "Swiggy",
         2023,
         1,
         1
        ],
        [
         1,
         "B",
         "2023-03-11",
         "UK",
         "Restaurant",
         2023,
         3,
         1
        ],
        [
         3,
         "B",
         "2023-01-16",
         "UK",
         "Swiggy",
         2023,
         1,
         1
        ],
        [
         3,
         "B",
         "2023-03-01",
         "UK",
         "Swiggy",
         2023,
         3,
         1
        ],
        [
         3,
         "C",
         "2023-01-01",
         "UK",
         "Restaurant",
         2023,
         1,
         1
        ],
        [
         1,
         "C",
         "2023-01-01",
         "USA",
         "Swiggy",
         2023,
         1,
         1
        ],
        [
         6,
         "C",
         "2023-01-07",
         "USA",
         "zomato",
         2023,
         1,
         1
        ],
        [
         3,
         "D",
         "2022-03-16",
         "USA",
         "zomato",
         2022,
         3,
         1
        ],
        [
         5,
         "D",
         "2023-03-01",
         "USA",
         "zomato",
         2023,
         3,
         1
        ],
        [
         3,
         "E",
         "2023-03-01",
         "USA",
         "Swiggy",
         2023,
         3,
         1
        ],
        [
         4,
         "E",
         "2022-03-01",
         "USA",
         "zomato",
         2022,
         3,
         1
        ],
        [
         4,
         "E",
         "2023-03-07",
         "USA",
         "zomato",
         2023,
         3,
         1
        ],
        [
         1,
         "A",
         "2023-05-05",
         "India",
         "Swiggy",
         2023,
         5,
         2
        ],
        [
         2,
         "A",
         "2022-05-05",
         "India",
         "Swiggy",
         2022,
         5,
         2
        ],
        [
         2,
         "A",
         "2023-05-07",
         "India",
         "Swiggy",
         2023,
         5,
         2
        ],
        [
         3,
         "A",
         "2023-05-10",
         "India",
         "Restaurant",
         2023,
         5,
         2
        ],
        [
         3,
         "A",
         "2022-05-11",
         "India",
         "Swiggy",
         2022,
         5,
         2
        ],
        [
         3,
         "A",
         "2023-05-11",
         "India",
         "Restaurant",
         2023,
         5,
         2
        ],
        [
         2,
         "B",
         "2022-02-05",
         "India",
         "Swiggy",
         2022,
         2,
         1
        ],
        [
         2,
         "B",
         "2023-05-02",
         "India",
         "Swiggy",
         2023,
         5,
         2
        ],
        [
         1,
         "B",
         "2023-05-04",
         "India",
         "Restaurant",
         2023,
         5,
         2
        ],
        [
         1,
         "B",
         "2023-02-11",
         "India",
         "Swiggy",
         2023,
         2,
         1
        ],
        [
         3,
         "B",
         "2023-05-16",
         "India",
         "zomato",
         2023,
         5,
         2
        ],
        [
         3,
         "B",
         "2022-02-05",
         "India",
         "zomato",
         2022,
         2,
         1
        ],
        [
         3,
         "C",
         "2023-05-05",
         "India",
         "zomato",
         2023,
         5,
         2
        ],
        [
         1,
         "C",
         "2023-05-05",
         "UK",
         "Swiggy",
         2023,
         5,
         2
        ],
        [
         6,
         "C",
         "2022-05-07",
         "UK",
         "zomato",
         2022,
         5,
         2
        ],
        [
         3,
         "D",
         "2023-02-16",
         "UK",
         "Restaurant",
         2023,
         2,
         1
        ],
        [
         5,
         "D",
         "2022-02-05",
         "UK",
         "zomato",
         2022,
         2,
         1
        ],
        [
         3,
         "E",
         "2023-02-05",
         "UK",
         "Restaurant",
         2023,
         2,
         1
        ],
        [
         4,
         "E",
         "2023-02-05",
         "UK",
         "Swiggy",
         2023,
         2,
         1
        ],
        [
         4,
         "E",
         "2023-02-07",
         "UK",
         "Restaurant",
         2023,
         2,
         1
        ],
        [
         2,
         "A",
         "2022-05-05",
         "UK",
         "Swiggy",
         2022,
         5,
         2
        ],
        [
         2,
         "A",
         "2023-05-07",
         "UK",
         "Swiggy",
         2023,
         5,
         2
        ],
        [
         3,
         "A",
         "2023-05-10",
         "UK",
         "Restaurant",
         2023,
         5,
         2
        ],
        [
         3,
         "A",
         "2022-05-11",
         "UK",
         "Swiggy",
         2022,
         5,
         2
        ],
        [
         3,
         "A",
         "2023-05-11",
         "UK",
         "zomato",
         2023,
         5,
         2
        ],
        [
         2,
         "B",
         "2022-07-05",
         "UK",
         "zomato",
         2022,
         7,
         3
        ],
        [
         2,
         "B",
         "2023-05-02",
         "UK",
         "zomato",
         2023,
         5,
         2
        ],
        [
         1,
         "B",
         "2023-05-04",
         "UK",
         "Swiggy",
         2023,
         5,
         2
        ],
        [
         1,
         "B",
         "2023-07-11",
         "UK",
         "Restaurant",
         2023,
         7,
         3
        ],
        [
         3,
         "B",
         "2023-05-16",
         "UK",
         "Swiggy",
         2023,
         5,
         2
        ],
        [
         3,
         "B",
         "2023-07-05",
         "UK",
         "Swiggy",
         2023,
         7,
         3
        ],
        [
         3,
         "C",
         "2023-05-05",
         "UK",
         "Restaurant",
         2023,
         5,
         2
        ],
        [
         1,
         "C",
         "2023-05-05",
         "USA",
         "Swiggy",
         2023,
         5,
         2
        ],
        [
         6,
         "C",
         "2023-05-07",
         "USA",
         "zomato",
         2023,
         5,
         2
        ],
        [
         3,
         "D",
         "2022-07-16",
         "USA",
         "zomato",
         2022,
         7,
         3
        ],
        [
         5,
         "D",
         "2023-07-05",
         "USA",
         "zomato",
         2023,
         7,
         3
        ],
        [
         3,
         "E",
         "2023-07-05",
         "USA",
         "Swiggy",
         2023,
         7,
         3
        ],
        [
         4,
         "E",
         "2022-07-05",
         "USA",
         "zomato",
         2022,
         7,
         3
        ],
        [
         4,
         "E",
         "2023-07-07",
         "USA",
         "zomato",
         2023,
         7,
         3
        ],
        [
         1,
         "A",
         "2023-06-06",
         "India",
         "Swiggy",
         2023,
         6,
         2
        ],
        [
         2,
         "A",
         "2022-06-06",
         "India",
         "Swiggy",
         2022,
         6,
         2
        ],
        [
         2,
         "A",
         "2023-06-11",
         "India",
         "Swiggy",
         2023,
         6,
         2
        ],
        [
         3,
         "A",
         "2023-06-10",
         "India",
         "Restaurant",
         2023,
         6,
         2
        ],
        [
         3,
         "A",
         "2022-06-11",
         "India",
         "Swiggy",
         2022,
         6,
         2
        ],
        [
         3,
         "A",
         "2023-06-11",
         "India",
         "Restaurant",
         2023,
         6,
         2
        ],
        [
         2,
         "B",
         "2022-02-06",
         "India",
         "Swiggy",
         2022,
         2,
         1
        ],
        [
         2,
         "B",
         "2023-06-02",
         "India",
         "Swiggy",
         2023,
         6,
         2
        ],
        [
         1,
         "B",
         "2023-06-04",
         "India",
         "Restaurant",
         2023,
         6,
         2
        ],
        [
         1,
         "B",
         "2023-02-11",
         "India",
         "Swiggy",
         2023,
         2,
         1
        ],
        [
         3,
         "B",
         "2023-06-16",
         "India",
         "zomato",
         2023,
         6,
         2
        ],
        [
         3,
         "B",
         "2022-02-06",
         "India",
         "zomato",
         2022,
         2,
         1
        ],
        [
         3,
         "C",
         "2023-06-06",
         "India",
         "zomato",
         2023,
         6,
         2
        ],
        [
         1,
         "C",
         "2023-06-06",
         "UK",
         "Swiggy",
         2023,
         6,
         2
        ],
        [
         6,
         "C",
         "2022-06-11",
         "UK",
         "zomato",
         2022,
         6,
         2
        ],
        [
         3,
         "D",
         "2023-02-16",
         "UK",
         "Restaurant",
         2023,
         2,
         1
        ],
        [
         5,
         "D",
         "2022-02-06",
         "UK",
         "zomato",
         2022,
         2,
         1
        ],
        [
         3,
         "E",
         "2023-02-06",
         "UK",
         "Restaurant",
         2023,
         2,
         1
        ],
        [
         4,
         "E",
         "2023-02-06",
         "UK",
         "Swiggy",
         2023,
         2,
         1
        ],
        [
         4,
         "E",
         "2023-02-11",
         "UK",
         "Restaurant",
         2023,
         2,
         1
        ],
        [
         2,
         "A",
         "2022-06-06",
         "UK",
         "Swiggy",
         2022,
         6,
         2
        ],
        [
         2,
         "A",
         "2023-06-11",
         "UK",
         "Swiggy",
         2023,
         6,
         2
        ],
        [
         3,
         "A",
         "2023-06-10",
         "UK",
         "Restaurant",
         2023,
         6,
         2
        ],
        [
         3,
         "A",
         "2022-06-11",
         "UK",
         "Swiggy",
         2022,
         6,
         2
        ],
        [
         3,
         "A",
         "2023-06-11",
         "UK",
         "zomato",
         2023,
         6,
         2
        ],
        [
         2,
         "B",
         "2022-11-06",
         "UK",
         "zomato",
         2022,
         11,
         4
        ],
        [
         2,
         "B",
         "2023-06-02",
         "UK",
         "zomato",
         2023,
         6,
         2
        ],
        [
         1,
         "B",
         "2023-06-04",
         "UK",
         "Swiggy",
         2023,
         6,
         2
        ],
        [
         1,
         "B",
         "2023-11-11",
         "UK",
         "Restaurant",
         2023,
         11,
         4
        ],
        [
         3,
         "B",
         "2023-06-16",
         "UK",
         "Swiggy",
         2023,
         6,
         2
        ],
        [
         3,
         "B",
         "2023-11-06",
         "UK",
         "Swiggy",
         2023,
         11,
         4
        ],
        [
         3,
         "C",
         "2023-06-06",
         "UK",
         "Restaurant",
         2023,
         6,
         2
        ],
        [
         1,
         "C",
         "2023-06-06",
         "USA",
         "Swiggy",
         2023,
         6,
         2
        ],
        [
         6,
         "C",
         "2023-06-11",
         "USA",
         "zomato",
         2023,
         6,
         2
        ],
        [
         3,
         "D",
         "2022-11-16",
         "USA",
         "zomato",
         2022,
         11,
         4
        ],
        [
         5,
         "D",
         "2023-11-06",
         "USA",
         "zomato",
         2023,
         11,
         4
        ],
        [
         3,
         "E",
         "2023-11-06",
         "USA",
         "Swiggy",
         2023,
         11,
         4
        ],
        [
         4,
         "E",
         "2022-11-06",
         "USA",
         "zomato",
         2022,
         11,
         4
        ],
        [
         4,
         "E",
         "2023-11-11",
         "USA",
         "zomato",
         2023,
         11,
         4
        ]
       ],
       "datasetInfos": [],
       "dbfsResultPath": null,
       "isJsonSchema": true,
       "metadata": {},
       "overflow": false,
       "plotOptions": {
        "customPlotOptions": {},
        "displayType": "table",
        "pivotAggregation": null,
        "pivotColumns": null,
        "xColumns": null,
        "yColumns": null
       },
       "removedWidgets": [],
       "schema": [
        {
         "metadata": "{}",
         "name": "product_id",
         "type": "\"integer\""
        },
        {
         "metadata": "{}",
         "name": "customer_id",
         "type": "\"string\""
        },
        {
         "metadata": "{}",
         "name": "order_date",
         "type": "\"date\""
        },
        {
         "metadata": "{}",
         "name": "location",
         "type": "\"string\""
        },
        {
         "metadata": "{}",
         "name": "source_order",
         "type": "\"string\""
        },
        {
         "metadata": "{}",
         "name": "order_year",
         "type": "\"integer\""
        },
        {
         "metadata": "{}",
         "name": "order_month",
         "type": "\"integer\""
        },
        {
         "metadata": "{}",
         "name": "order_quarter",
         "type": "\"integer\""
        }
       ],
       "type": "table"
      }
     },
     "output_type": "display_data"
    }
   ],
   "source": [
    "from pyspark.sql.functions import month, year, quarter\n",
    "sales_df = sales_df.withColumn(\"order_year\", year(sales_df.order_date))\n",
    "sales_df = sales_df.withColumn(\"order_month\", month(sales_df.order_date))\n",
    "sales_df = sales_df.withColumn(\"order_quarter\", quarter(sales_df.order_date))\n",
    "display(sales_df)"
   ]
  },
  {
   "cell_type": "code",
   "execution_count": 0,
   "metadata": {
    "application/vnd.databricks.v1+cell": {
     "cellMetadata": {
      "byteLimit": 2048000,
      "rowLimit": 10000
     },
     "inputWidgets": {},
     "nuid": "dbd6c8c3-32c3-44d6-ba24-f5c859902699",
     "showTitle": false,
     "title": ""
    }
   },
   "outputs": [
    {
     "output_type": "stream",
     "name": "stdout",
     "output_type": "stream",
     "text": [
      "+---+---------+-----+----+\n|  1|    PIZZA|  100| _c3|\n+---+---------+-----+----+\n|  2|  Chowmin|150.0|null|\n|  3| sandwich|120.0|null|\n|  4|     Dosa|110.0|null|\n|  5|  Biryani| 80.0|null|\n|  6|    Pasta|180.0|null|\n+---+---------+-----+----+\n\nroot\n |-- 1: integer (nullable = true)\n |--  PIZZA: string (nullable = true)\n |--  100: double (nullable = true)\n |-- _c3: string (nullable = true)\n\n"
     ]
    }
   ],
   "source": [
    "# Load the CSV file with inferred schema\n",
    "df = spark.read.format(\"csv\").option(\"header\", \"true\").option(\"inferSchema\", \"true\").load(\"/FileStore/tables/menu_csv.txt\")\n",
    "\n",
    "# Display the DataFrame\n",
    "df.show()\n",
    "\n",
    "# Display the schema\n",
    "df.printSchema()\n"
   ]
  },
  {
   "cell_type": "code",
   "execution_count": 0,
   "metadata": {
    "application/vnd.databricks.v1+cell": {
     "cellMetadata": {
      "byteLimit": 2048000,
      "rowLimit": 10000
     },
     "inputWidgets": {},
     "nuid": "8050a0a8-96f3-4275-893c-3355c8333115",
     "showTitle": true,
     "title": "menu dataframe"
    }
   },
   "outputs": [
    {
     "output_type": "display_data",
     "data": {
      "text/html": [
       "<style scoped>\n",
       "  .table-result-container {\n",
       "    max-height: 300px;\n",
       "    overflow: auto;\n",
       "  }\n",
       "  table, th, td {\n",
       "    border: 1px solid black;\n",
       "    border-collapse: collapse;\n",
       "  }\n",
       "  th, td {\n",
       "    padding: 5px;\n",
       "  }\n",
       "  th {\n",
       "    text-align: left;\n",
       "  }\n",
       "</style><div class='table-result-container'><table class='table-result'><thead style='background-color: white'><tr><th>product_id</th><th>product_name</th><th>price</th></tr></thead><tbody><tr><td>1</td><td> PIZZA</td><td> 100</td></tr><tr><td>2</td><td> Chowmin</td><td> 150</td></tr><tr><td>3</td><td> sandwich</td><td> 120</td></tr><tr><td>4</td><td> Dosa</td><td> 110</td></tr><tr><td>5</td><td> Biryani</td><td> 80</td></tr><tr><td>6</td><td> Pasta</td><td> 180</td></tr></tbody></table></div>"
      ]
     },
     "metadata": {
      "application/vnd.databricks.v1+output": {
       "addedWidgets": {},
       "aggData": [],
       "aggError": "",
       "aggOverflow": false,
       "aggSchema": [],
       "aggSeriesLimitReached": false,
       "aggType": "",
       "arguments": {},
       "columnCustomDisplayInfos": {},
       "data": [
        [
         1,
         " PIZZA",
         " 100"
        ],
        [
         2,
         " Chowmin",
         " 150"
        ],
        [
         3,
         " sandwich",
         " 120"
        ],
        [
         4,
         " Dosa",
         " 110"
        ],
        [
         5,
         " Biryani",
         " 80"
        ],
        [
         6,
         " Pasta",
         " 180"
        ]
       ],
       "datasetInfos": [],
       "dbfsResultPath": null,
       "isJsonSchema": true,
       "metadata": {},
       "overflow": false,
       "plotOptions": {
        "customPlotOptions": {},
        "displayType": "table",
        "pivotAggregation": null,
        "pivotColumns": null,
        "xColumns": null,
        "yColumns": null
       },
       "removedWidgets": [],
       "schema": [
        {
         "metadata": "{}",
         "name": "product_id",
         "type": "\"integer\""
        },
        {
         "metadata": "{}",
         "name": "product_name",
         "type": "\"string\""
        },
        {
         "metadata": "{}",
         "name": "price",
         "type": "\"string\""
        }
       ],
       "type": "table"
      }
     },
     "output_type": "display_data"
    }
   ],
   "source": [
    "from pyspark.sql.types import StructType, StructField, IntegerType, StringType, DateType\n",
    "\n",
    "schema = StructType([\n",
    "    StructField(\"product_id\", IntegerType(), True),\n",
    "    StructField(\"product_name\", StringType(), True),\n",
    "    StructField(\"price\", StringType(), True),\n",
    "    \n",
    "\n",
    "])\n",
    "\n",
    "menu_df = spark.read.format(\"csv\").option(\"infershema\", \"true\").schema(schema).load(\"/FileStore/tables/menu_csv.txt\")\n",
    "display(menu_df)"
   ]
  },
  {
   "cell_type": "code",
   "execution_count": 0,
   "metadata": {
    "application/vnd.databricks.v1+cell": {
     "cellMetadata": {
      "byteLimit": 2048000,
      "rowLimit": 10000
     },
     "inputWidgets": {},
     "nuid": "5fe3eae8-95cc-4662-924c-f54747ed9376",
     "showTitle": true,
     "title": "Total amount spent by each customer"
    }
   },
   "outputs": [
    {
     "output_type": "display_data",
     "data": {
      "text/html": [
       "<style scoped>\n",
       "  .table-result-container {\n",
       "    max-height: 300px;\n",
       "    overflow: auto;\n",
       "  }\n",
       "  table, th, td {\n",
       "    border: 1px solid black;\n",
       "    border-collapse: collapse;\n",
       "  }\n",
       "  th, td {\n",
       "    padding: 5px;\n",
       "  }\n",
       "  th {\n",
       "    text-align: left;\n",
       "  }\n",
       "</style><div class='table-result-container'><table class='table-result'><thead style='background-color: white'><tr><th>customer_id</th><th>sum(price)</th></tr></thead><tbody><tr><td>A</td><td>4260.0</td></tr><tr><td>B</td><td>4440.0</td></tr><tr><td>C</td><td>2400.0</td></tr><tr><td>D</td><td>1200.0</td></tr><tr><td>E</td><td>2040.0</td></tr></tbody></table></div>"
      ]
     },
     "metadata": {
      "application/vnd.databricks.v1+output": {
       "addedWidgets": {},
       "aggData": [],
       "aggError": "",
       "aggOverflow": false,
       "aggSchema": [],
       "aggSeriesLimitReached": false,
       "aggType": "",
       "arguments": {},
       "columnCustomDisplayInfos": {},
       "data": [
        [
         "A",
         4260.0
        ],
        [
         "B",
         4440.0
        ],
        [
         "C",
         2400.0
        ],
        [
         "D",
         1200.0
        ],
        [
         "E",
         2040.0
        ]
       ],
       "datasetInfos": [],
       "dbfsResultPath": null,
       "isJsonSchema": true,
       "metadata": {},
       "overflow": false,
       "plotOptions": {
        "customPlotOptions": {},
        "displayType": "table",
        "pivotAggregation": null,
        "pivotColumns": null,
        "xColumns": null,
        "yColumns": null
       },
       "removedWidgets": [],
       "schema": [
        {
         "metadata": "{}",
         "name": "customer_id",
         "type": "\"string\""
        },
        {
         "metadata": "{}",
         "name": "sum(price)",
         "type": "\"double\""
        }
       ],
       "type": "table"
      }
     },
     "output_type": "display_data"
    },
    {
     "output_type": "display_data",
     "data": {
      "text/plain": [
       "Databricks visualization. Run in Databricks to view."
      ]
     },
     "metadata": {
      "application/vnd.databricks.v1.subcommand+json": {
       "baseErrorDetails": null,
       "bindings": {},
       "collapsed": false,
       "command": "%python\n__backend_agg_display_orig = display\n__backend_agg_dfs = []\ndef __backend_agg_display_new(df):\n    __backend_agg_df_modules = [\"pandas.core.frame\", \"databricks.koalas.frame\", \"pyspark.sql.dataframe\", \"pyspark.pandas.frame\", \"pyspark.sql.connect.dataframe\"]\n    if (type(df).__module__ in __backend_agg_df_modules and type(df).__name__ == 'DataFrame') or isinstance(df, list):\n        __backend_agg_dfs.append(df)\n\ndisplay = __backend_agg_display_new\n\ndef __backend_agg_user_code_fn():\n    import base64\n    exec(base64.standard_b64decode(\"dG90YWxfYW1vdW50X3NwZW50ID0gKHNhbGVzX2RmLmpvaW4obWVudV9kZiwgJ3Byb2R1Y3RfaWQnKS5ncm91cEJ5KCdjdXN0b21lcl9pZCcpLmFnZyh7InByaWNlIjoic3VtIn0pLm9yZGVyQnkoJ2N1c3RvbWVyX2lkJykpCmRpc3BsYXkodG90YWxfYW1vdW50X3NwZW50KQ==\").decode())\n\ntry:\n    # run user code\n    __backend_agg_user_code_fn()\n\n    #reset display function\n    display = __backend_agg_display_orig\n\n    if len(__backend_agg_dfs) > 0:\n        # create a temp view\n        if type(__backend_agg_dfs[0]).__module__ == \"databricks.koalas.frame\":\n            # koalas dataframe\n            __backend_agg_dfs[0].to_spark().createOrReplaceTempView(\"DatabricksView63937dd\")\n        elif type(__backend_agg_dfs[0]).__module__ == \"pandas.core.frame\" or isinstance(__backend_agg_dfs[0], list):\n            # pandas dataframe\n            spark.createDataFrame(__backend_agg_dfs[0]).createOrReplaceTempView(\"DatabricksView63937dd\")\n        else:\n            __backend_agg_dfs[0].createOrReplaceTempView(\"DatabricksView63937dd\")\n        #run backend agg\n        display(spark.sql(\"\"\"WITH q AS (select * from DatabricksView63937dd) SELECT `customer_id`,SUM(`sum(price)`) `column_d710edcb2` FROM q GROUP BY `customer_id`\"\"\"))\n    else:\n        displayHTML(\"dataframe no longer exists. If you're using dataframe.display(), use display(dataframe) instead.\")\n\n\nfinally:\n    spark.sql(\"drop view if exists DatabricksView63937dd\")\n    display = __backend_agg_display_orig\n    del __backend_agg_display_new\n    del __backend_agg_display_orig\n    del __backend_agg_dfs\n    del __backend_agg_user_code_fn\n\n",
       "commandTitle": "Visualization 1",
       "commandType": "auto",
       "commandVersion": 0,
       "commentThread": [],
       "commentsVisible": false,
       "contentSha256Hex": null,
       "customPlotOptions": {
        "redashChart": [
         {
          "key": "type",
          "value": "CHART"
         },
         {
          "key": "options",
          "value": {
           "alignYAxesAtZero": true,
           "coefficient": 1,
           "columnConfigurationMap": {
            "x": {
             "column": "customer_id",
             "id": "column_d710edcb1"
            },
            "y": [
             {
              "column": "sum(price)",
              "id": "column_d710edcb2",
              "transform": "SUM"
             }
            ]
           },
           "dateTimeFormat": "DD/MM/YYYY HH:mm",
           "direction": {
            "type": "counterclockwise"
           },
           "error_y": {
            "type": "data",
            "visible": true
           },
           "globalSeriesType": "area",
           "isAggregationOn": true,
           "legend": {
            "traceorder": "normal"
           },
           "missingValuesAsZero": true,
           "numberFormat": "0,0.[00000]",
           "percentFormat": "0[.]00%",
           "series": {
            "error_y": {
             "type": "data",
             "visible": true
            },
            "stacking": null
           },
           "seriesOptions": {
            "column_d710edcb2": {
             "name": "sum(price)",
             "type": "area",
             "yAxis": 0
            }
           },
           "showDataLabels": true,
           "sizemode": "diameter",
           "sortX": true,
           "sortY": true,
           "swappedAxes": false,
           "textFormat": "",
           "useAggregationsUi": true,
           "valuesOptions": {},
           "version": 2,
           "xAxis": {
            "labels": {
             "enabled": true
            },
            "type": "-"
           },
           "yAxis": [
            {
             "type": "-"
            },
            {
             "opposite": true,
             "type": "-"
            }
           ]
          }
         }
        ]
       },
       "datasetPreviewNameToCmdIdMap": {},
       "diffDeletes": [],
       "diffInserts": [],
       "displayType": "redashChart",
       "error": null,
       "errorDetails": null,
       "errorSummary": null,
       "errorTraceType": null,
       "finishTime": 0,
       "globalVars": {},
       "guid": "",
       "height": "auto",
       "hideCommandCode": false,
       "hideCommandResult": false,
       "iPythonMetadata": null,
       "inputWidgets": {},
       "isLockedInExamMode": false,
       "latestUser": "a user",
       "latestUserId": null,
       "listResultMetadata": null,
       "metadata": {
        "byteLimit": 2048000,
        "rowLimit": 10000
       },
       "nuid": "808345ee-7eae-4500-879d-c4719ed523af",
       "origId": 0,
       "parentHierarchy": [],
       "pivotAggregation": null,
       "pivotColumns": null,
       "position": 6.0,
       "resultDbfsErrorMessage": null,
       "resultDbfsStatus": "INLINED_IN_TREE",
       "results": null,
       "showCommandTitle": false,
       "startTime": 0,
       "state": "finished",
       "streamStates": {},
       "subcommandOptions": {
        "queryPlan": {
         "groups": [
          {
           "column": "customer_id",
           "type": "column"
          }
         ],
         "selects": [
          {
           "column": "customer_id",
           "type": "column"
          },
          {
           "alias": "column_d710edcb2",
           "args": [
            {
             "column": "sum(price)",
             "type": "column"
            }
           ],
           "function": "SUM",
           "type": "function"
          }
         ]
        }
       },
       "submitTime": 0,
       "subtype": "tableResultSubCmd.visualization",
       "tableResultIndex": 0,
       "useConsistentColors": false,
       "version": "CommandV1",
       "width": "auto",
       "workflows": [],
       "xColumns": null,
       "yColumns": null
      }
     },
     "output_type": "display_data"
    }
   ],
   "source": [
    "total_amount_spent = (sales_df.join(menu_df, 'product_id').groupBy('customer_id').agg({\"price\":\"sum\"}).orderBy('customer_id'))\n",
    "display(total_amount_spent)"
   ]
  },
  {
   "cell_type": "code",
   "execution_count": 0,
   "metadata": {
    "application/vnd.databricks.v1+cell": {
     "cellMetadata": {
      "byteLimit": 2048000,
      "rowLimit": 10000
     },
     "inputWidgets": {},
     "nuid": "09e864e0-f367-4bf3-b3b6-fe4c752e53bb",
     "showTitle": true,
     "title": "Total amount spent by food category"
    }
   },
   "outputs": [
    {
     "output_type": "display_data",
     "data": {
      "text/html": [
       "<style scoped>\n",
       "  .table-result-container {\n",
       "    max-height: 300px;\n",
       "    overflow: auto;\n",
       "  }\n",
       "  table, th, td {\n",
       "    border: 1px solid black;\n",
       "    border-collapse: collapse;\n",
       "  }\n",
       "  th, td {\n",
       "    padding: 5px;\n",
       "  }\n",
       "  th {\n",
       "    text-align: left;\n",
       "  }\n",
       "</style><div class='table-result-container'><table class='table-result'><thead style='background-color: white'><tr><th>product_name</th><th>sum(price)</th></tr></thead><tbody><tr><td> Biryani</td><td>480.0</td></tr><tr><td> Chowmin</td><td>3600.0</td></tr><tr><td> Dosa</td><td>1320.0</td></tr><tr><td> PIZZA</td><td>2100.0</td></tr><tr><td> Pasta</td><td>1080.0</td></tr><tr><td> sandwich</td><td>5760.0</td></tr></tbody></table></div>"
      ]
     },
     "metadata": {
      "application/vnd.databricks.v1+output": {
       "addedWidgets": {},
       "aggData": [],
       "aggError": "",
       "aggOverflow": false,
       "aggSchema": [],
       "aggSeriesLimitReached": false,
       "aggType": "",
       "arguments": {},
       "columnCustomDisplayInfos": {},
       "data": [
        [
         " Biryani",
         480.0
        ],
        [
         " Chowmin",
         3600.0
        ],
        [
         " Dosa",
         1320.0
        ],
        [
         " PIZZA",
         2100.0
        ],
        [
         " Pasta",
         1080.0
        ],
        [
         " sandwich",
         5760.0
        ]
       ],
       "datasetInfos": [],
       "dbfsResultPath": null,
       "isJsonSchema": true,
       "metadata": {},
       "overflow": false,
       "plotOptions": {
        "customPlotOptions": {},
        "displayType": "table",
        "pivotAggregation": null,
        "pivotColumns": null,
        "xColumns": null,
        "yColumns": null
       },
       "removedWidgets": [],
       "schema": [
        {
         "metadata": "{}",
         "name": "product_name",
         "type": "\"string\""
        },
        {
         "metadata": "{}",
         "name": "sum(price)",
         "type": "\"double\""
        }
       ],
       "type": "table"
      }
     },
     "output_type": "display_data"
    },
    {
     "output_type": "display_data",
     "data": {
      "text/plain": [
       "Databricks visualization. Run in Databricks to view."
      ]
     },
     "metadata": {
      "application/vnd.databricks.v1.subcommand+json": {
       "baseErrorDetails": null,
       "bindings": {},
       "collapsed": false,
       "command": "%python\n__backend_agg_display_orig = display\n__backend_agg_dfs = []\ndef __backend_agg_display_new(df):\n    __backend_agg_df_modules = [\"pandas.core.frame\", \"databricks.koalas.frame\", \"pyspark.sql.dataframe\", \"pyspark.pandas.frame\", \"pyspark.sql.connect.dataframe\"]\n    if (type(df).__module__ in __backend_agg_df_modules and type(df).__name__ == 'DataFrame') or isinstance(df, list):\n        __backend_agg_dfs.append(df)\n\ndisplay = __backend_agg_display_new\n\ndef __backend_agg_user_code_fn():\n    import base64\n    exec(base64.standard_b64decode(\"dG90YWxfYW1vdW50X3NwZW50ID0gKHNhbGVzX2RmLmpvaW4obWVudV9kZiwgJ3Byb2R1Y3RfaWQnKS5ncm91cEJ5KCdwcm9kdWN0X25hbWUnKS5hZ2coeyJwcmljZSI6InN1bSJ9KS5vcmRlckJ5KCdwcm9kdWN0X25hbWUnKSkKZGlzcGxheSh0b3RhbF9hbW91bnRfc3BlbnQp\").decode())\n\ntry:\n    # run user code\n    __backend_agg_user_code_fn()\n\n    #reset display function\n    display = __backend_agg_display_orig\n\n    if len(__backend_agg_dfs) > 0:\n        # create a temp view\n        if type(__backend_agg_dfs[0]).__module__ == \"databricks.koalas.frame\":\n            # koalas dataframe\n            __backend_agg_dfs[0].to_spark().createOrReplaceTempView(\"DatabricksView51e1c81\")\n        elif type(__backend_agg_dfs[0]).__module__ == \"pandas.core.frame\" or isinstance(__backend_agg_dfs[0], list):\n            # pandas dataframe\n            spark.createDataFrame(__backend_agg_dfs[0]).createOrReplaceTempView(\"DatabricksView51e1c81\")\n        else:\n            __backend_agg_dfs[0].createOrReplaceTempView(\"DatabricksView51e1c81\")\n        #run backend agg\n        display(spark.sql(\"\"\"WITH q AS (select * from DatabricksView51e1c81) SELECT `product_name`,SUM(`sum(price)`) `column_d710edcb5` FROM q GROUP BY `product_name`\"\"\"))\n    else:\n        displayHTML(\"dataframe no longer exists. If you're using dataframe.display(), use display(dataframe) instead.\")\n\n\nfinally:\n    spark.sql(\"drop view if exists DatabricksView51e1c81\")\n    display = __backend_agg_display_orig\n    del __backend_agg_display_new\n    del __backend_agg_display_orig\n    del __backend_agg_dfs\n    del __backend_agg_user_code_fn\n\n",
       "commandTitle": "Visualization 1",
       "commandType": "auto",
       "commandVersion": 0,
       "commentThread": [],
       "commentsVisible": false,
       "contentSha256Hex": null,
       "customPlotOptions": {
        "redashChart": [
         {
          "key": "type",
          "value": "CHART"
         },
         {
          "key": "options",
          "value": {
           "alignYAxesAtZero": true,
           "coefficient": 1,
           "columnConfigurationMap": {
            "x": {
             "column": "product_name",
             "id": "column_d710edcb4"
            },
            "y": [
             {
              "column": "sum(price)",
              "id": "column_d710edcb5",
              "transform": "SUM"
             }
            ]
           },
           "dateTimeFormat": "DD/MM/YYYY HH:mm",
           "direction": {
            "type": "counterclockwise"
           },
           "error_y": {
            "type": "data",
            "visible": true
           },
           "globalSeriesType": "column",
           "isAggregationOn": true,
           "legend": {
            "traceorder": "normal"
           },
           "missingValuesAsZero": true,
           "numberFormat": "0,0.[00000]",
           "percentFormat": "0[.]00%",
           "series": {
            "error_y": {
             "type": "data",
             "visible": true
            },
            "stacking": null
           },
           "seriesOptions": {
            "column_d710edcb5": {
             "name": "sum(price)",
             "yAxis": 0
            }
           },
           "showDataLabels": true,
           "sizemode": "diameter",
           "sortX": true,
           "sortY": true,
           "swappedAxes": true,
           "textFormat": "",
           "useAggregationsUi": true,
           "valuesOptions": {},
           "version": 2,
           "xAxis": {
            "labels": {
             "enabled": true
            },
            "type": "-"
           },
           "yAxis": [
            {
             "type": "-"
            },
            {
             "opposite": true,
             "type": "-"
            }
           ]
          }
         }
        ]
       },
       "datasetPreviewNameToCmdIdMap": {},
       "diffDeletes": [],
       "diffInserts": [],
       "displayType": "redashChart",
       "error": null,
       "errorDetails": null,
       "errorSummary": null,
       "errorTraceType": null,
       "finishTime": 0,
       "globalVars": {},
       "guid": "",
       "height": "auto",
       "hideCommandCode": false,
       "hideCommandResult": false,
       "iPythonMetadata": null,
       "inputWidgets": {},
       "isLockedInExamMode": false,
       "latestUser": "a user",
       "latestUserId": null,
       "listResultMetadata": null,
       "metadata": {
        "byteLimit": 2048000,
        "rowLimit": 10000
       },
       "nuid": "f8afe51d-382f-461d-9b76-f8eb20d5f9cd",
       "origId": 0,
       "parentHierarchy": [],
       "pivotAggregation": null,
       "pivotColumns": null,
       "position": 7.0,
       "resultDbfsErrorMessage": null,
       "resultDbfsStatus": "INLINED_IN_TREE",
       "results": null,
       "showCommandTitle": false,
       "startTime": 0,
       "state": "finished",
       "streamStates": {},
       "subcommandOptions": {
        "queryPlan": {
         "groups": [
          {
           "column": "product_name",
           "type": "column"
          }
         ],
         "selects": [
          {
           "column": "product_name",
           "type": "column"
          },
          {
           "alias": "column_d710edcb5",
           "args": [
            {
             "column": "sum(price)",
             "type": "column"
            }
           ],
           "function": "SUM",
           "type": "function"
          }
         ]
        }
       },
       "submitTime": 0,
       "subtype": "tableResultSubCmd.visualization",
       "tableResultIndex": 0,
       "useConsistentColors": false,
       "version": "CommandV1",
       "width": "auto",
       "workflows": [],
       "xColumns": null,
       "yColumns": null
      }
     },
     "output_type": "display_data"
    }
   ],
   "source": [
    "total_amount_spent = (sales_df.join(menu_df, 'product_id').groupBy('product_name').agg({\"price\":\"sum\"}).orderBy('product_name'))\n",
    "display(total_amount_spent)"
   ]
  },
  {
   "cell_type": "code",
   "execution_count": 0,
   "metadata": {
    "application/vnd.databricks.v1+cell": {
     "cellMetadata": {
      "byteLimit": 2048000,
      "rowLimit": 10000
     },
     "inputWidgets": {},
     "nuid": "e9e91066-bd3b-411d-8057-a9299363db95",
     "showTitle": true,
     "title": "Total amount of sales each month"
    }
   },
   "outputs": [
    {
     "output_type": "display_data",
     "data": {
      "text/html": [
       "<style scoped>\n",
       "  .table-result-container {\n",
       "    max-height: 300px;\n",
       "    overflow: auto;\n",
       "  }\n",
       "  table, th, td {\n",
       "    border: 1px solid black;\n",
       "    border-collapse: collapse;\n",
       "  }\n",
       "  th, td {\n",
       "    padding: 5px;\n",
       "  }\n",
       "  th {\n",
       "    text-align: left;\n",
       "  }\n",
       "</style><div class='table-result-container'><table class='table-result'><thead style='background-color: white'><tr><th>order_month</th><th>sum(price)</th></tr></thead><tbody><tr><td>1</td><td>2960.0</td></tr><tr><td>2</td><td>2730.0</td></tr><tr><td>3</td><td>910.0</td></tr><tr><td>5</td><td>2960.0</td></tr><tr><td>6</td><td>2960.0</td></tr><tr><td>7</td><td>910.0</td></tr><tr><td>11</td><td>910.0</td></tr></tbody></table></div>"
      ]
     },
     "metadata": {
      "application/vnd.databricks.v1+output": {
       "addedWidgets": {},
       "aggData": [],
       "aggError": "",
       "aggOverflow": false,
       "aggSchema": [],
       "aggSeriesLimitReached": false,
       "aggType": "",
       "arguments": {},
       "columnCustomDisplayInfos": {},
       "data": [
        [
         1,
         2960.0
        ],
        [
         2,
         2730.0
        ],
        [
         3,
         910.0
        ],
        [
         5,
         2960.0
        ],
        [
         6,
         2960.0
        ],
        [
         7,
         910.0
        ],
        [
         11,
         910.0
        ]
       ],
       "datasetInfos": [],
       "dbfsResultPath": null,
       "isJsonSchema": true,
       "metadata": {},
       "overflow": false,
       "plotOptions": {
        "customPlotOptions": {},
        "displayType": "table",
        "pivotAggregation": null,
        "pivotColumns": null,
        "xColumns": null,
        "yColumns": null
       },
       "removedWidgets": [],
       "schema": [
        {
         "metadata": "{}",
         "name": "order_month",
         "type": "\"integer\""
        },
        {
         "metadata": "{}",
         "name": "sum(price)",
         "type": "\"double\""
        }
       ],
       "type": "table"
      }
     },
     "output_type": "display_data"
    },
    {
     "output_type": "display_data",
     "data": {
      "text/plain": [
       "Databricks visualization. Run in Databricks to view."
      ]
     },
     "metadata": {
      "application/vnd.databricks.v1.subcommand+json": {
       "baseErrorDetails": null,
       "bindings": {},
       "collapsed": false,
       "command": "%python\n__backend_agg_display_orig = display\n__backend_agg_dfs = []\ndef __backend_agg_display_new(df):\n    __backend_agg_df_modules = [\"pandas.core.frame\", \"databricks.koalas.frame\", \"pyspark.sql.dataframe\", \"pyspark.pandas.frame\", \"pyspark.sql.connect.dataframe\"]\n    if (type(df).__module__ in __backend_agg_df_modules and type(df).__name__ == 'DataFrame') or isinstance(df, list):\n        __backend_agg_dfs.append(df)\n\ndisplay = __backend_agg_display_new\n\ndef __backend_agg_user_code_fn():\n    import base64\n    exec(base64.standard_b64decode(\"ZGZtb250aCA9IChzYWxlc19kZi5qb2luKG1lbnVfZGYsICdwcm9kdWN0X2lkJykuZ3JvdXBCeSgnb3JkZXJfbW9udGgnKS5hZ2coeyJwcmljZSI6InN1bSJ9KS5vcmRlckJ5KCdvcmRlcl9tb250aCcpKQpkaXNwbGF5KGRmbW9udGgp\").decode())\n\ntry:\n    # run user code\n    __backend_agg_user_code_fn()\n\n    #reset display function\n    display = __backend_agg_display_orig\n\n    if len(__backend_agg_dfs) > 0:\n        # create a temp view\n        if type(__backend_agg_dfs[0]).__module__ == \"databricks.koalas.frame\":\n            # koalas dataframe\n            __backend_agg_dfs[0].to_spark().createOrReplaceTempView(\"DatabricksView8ca3972\")\n        elif type(__backend_agg_dfs[0]).__module__ == \"pandas.core.frame\" or isinstance(__backend_agg_dfs[0], list):\n            # pandas dataframe\n            spark.createDataFrame(__backend_agg_dfs[0]).createOrReplaceTempView(\"DatabricksView8ca3972\")\n        else:\n            __backend_agg_dfs[0].createOrReplaceTempView(\"DatabricksView8ca3972\")\n        #run backend agg\n        display(spark.sql(\"\"\"WITH q AS (select * from DatabricksView8ca3972) SELECT `order_month`,SUM(`sum(price)`) `column_d710edcb8` FROM q GROUP BY `order_month`\"\"\"))\n    else:\n        displayHTML(\"dataframe no longer exists. If you're using dataframe.display(), use display(dataframe) instead.\")\n\n\nfinally:\n    spark.sql(\"drop view if exists DatabricksView8ca3972\")\n    display = __backend_agg_display_orig\n    del __backend_agg_display_new\n    del __backend_agg_display_orig\n    del __backend_agg_dfs\n    del __backend_agg_user_code_fn\n\n",
       "commandTitle": "Visualization 1",
       "commandType": "auto",
       "commandVersion": 0,
       "commentThread": [],
       "commentsVisible": false,
       "contentSha256Hex": null,
       "customPlotOptions": {
        "redashChart": [
         {
          "key": "type",
          "value": "CHART"
         },
         {
          "key": "options",
          "value": {
           "alignYAxesAtZero": true,
           "coefficient": 1,
           "columnConfigurationMap": {
            "x": {
             "column": "order_month",
             "id": "column_d710edcb7"
            },
            "y": [
             {
              "column": "sum(price)",
              "id": "column_d710edcb8",
              "transform": "SUM"
             }
            ]
           },
           "dateTimeFormat": "DD/MM/YYYY HH:mm",
           "direction": {
            "type": "counterclockwise"
           },
           "error_y": {
            "type": "data",
            "visible": true
           },
           "globalSeriesType": "column",
           "isAggregationOn": true,
           "legend": {
            "traceorder": "normal"
           },
           "missingValuesAsZero": true,
           "numberFormat": "0,0.[00000]",
           "percentFormat": "0[.]00%",
           "series": {
            "error_y": {
             "type": "data",
             "visible": true
            },
            "stacking": null
           },
           "seriesOptions": {
            "column_d710edcb8": {
             "name": "sum(price)",
             "type": "column",
             "yAxis": 0
            }
           },
           "showDataLabels": true,
           "sizemode": "diameter",
           "sortX": true,
           "sortY": true,
           "swappedAxes": false,
           "textFormat": "",
           "useAggregationsUi": true,
           "valuesOptions": {},
           "version": 2,
           "xAxis": {
            "labels": {
             "enabled": true
            },
            "type": "-"
           },
           "yAxis": [
            {
             "type": "-"
            },
            {
             "opposite": true,
             "type": "-"
            }
           ]
          }
         }
        ]
       },
       "datasetPreviewNameToCmdIdMap": {},
       "diffDeletes": [],
       "diffInserts": [],
       "displayType": "redashChart",
       "error": null,
       "errorDetails": null,
       "errorSummary": null,
       "errorTraceType": null,
       "finishTime": 0,
       "globalVars": {},
       "guid": "",
       "height": "auto",
       "hideCommandCode": false,
       "hideCommandResult": false,
       "iPythonMetadata": null,
       "inputWidgets": {},
       "isLockedInExamMode": false,
       "latestUser": "a user",
       "latestUserId": null,
       "listResultMetadata": null,
       "metadata": {
        "byteLimit": 2048000,
        "rowLimit": 10000
       },
       "nuid": "cdb2191e-ee5d-442d-900d-3e931c79eb23",
       "origId": 0,
       "parentHierarchy": [],
       "pivotAggregation": null,
       "pivotColumns": null,
       "position": 8.0,
       "resultDbfsErrorMessage": null,
       "resultDbfsStatus": "INLINED_IN_TREE",
       "results": null,
       "showCommandTitle": false,
       "startTime": 0,
       "state": "finished",
       "streamStates": {},
       "subcommandOptions": {
        "queryPlan": {
         "groups": [
          {
           "column": "order_month",
           "type": "column"
          }
         ],
         "selects": [
          {
           "column": "order_month",
           "type": "column"
          },
          {
           "alias": "column_d710edcb8",
           "args": [
            {
             "column": "sum(price)",
             "type": "column"
            }
           ],
           "function": "SUM",
           "type": "function"
          }
         ]
        }
       },
       "submitTime": 0,
       "subtype": "tableResultSubCmd.visualization",
       "tableResultIndex": 0,
       "useConsistentColors": false,
       "version": "CommandV1",
       "width": "auto",
       "workflows": [],
       "xColumns": null,
       "yColumns": null
      }
     },
     "output_type": "display_data"
    }
   ],
   "source": [
    "dfmonth = (sales_df.join(menu_df, 'product_id').groupBy('order_month').agg({\"price\":\"sum\"}).orderBy('order_month'))\n",
    "display(dfmonth)"
   ]
  },
  {
   "cell_type": "code",
   "execution_count": 0,
   "metadata": {
    "application/vnd.databricks.v1+cell": {
     "cellMetadata": {
      "byteLimit": 2048000,
      "rowLimit": 10000
     },
     "inputWidgets": {},
     "nuid": "607d65b8-5381-43fd-a5f6-a1ab081eada6",
     "showTitle": false,
     "title": ""
    }
   },
   "outputs": [
    {
     "output_type": "display_data",
     "data": {
      "text/html": [
       "<style scoped>\n",
       "  .table-result-container {\n",
       "    max-height: 300px;\n",
       "    overflow: auto;\n",
       "  }\n",
       "  table, th, td {\n",
       "    border: 1px solid black;\n",
       "    border-collapse: collapse;\n",
       "  }\n",
       "  th, td {\n",
       "    padding: 5px;\n",
       "  }\n",
       "  th {\n",
       "    text-align: left;\n",
       "  }\n",
       "</style><div class='table-result-container'><table class='table-result'><thead style='background-color: white'><tr><th>order_year</th><th>sum(price)</th></tr></thead><tbody><tr><td>2022</td><td>4350.0</td></tr><tr><td>2023</td><td>9990.0</td></tr></tbody></table></div>"
      ]
     },
     "metadata": {
      "application/vnd.databricks.v1+output": {
       "addedWidgets": {},
       "aggData": [],
       "aggError": "",
       "aggOverflow": false,
       "aggSchema": [],
       "aggSeriesLimitReached": false,
       "aggType": "",
       "arguments": {},
       "columnCustomDisplayInfos": {},
       "data": [
        [
         2022,
         4350.0
        ],
        [
         2023,
         9990.0
        ]
       ],
       "datasetInfos": [],
       "dbfsResultPath": null,
       "isJsonSchema": true,
       "metadata": {},
       "overflow": false,
       "plotOptions": {
        "customPlotOptions": {},
        "displayType": "table",
        "pivotAggregation": null,
        "pivotColumns": null,
        "xColumns": null,
        "yColumns": null
       },
       "removedWidgets": [],
       "schema": [
        {
         "metadata": "{}",
         "name": "order_year",
         "type": "\"integer\""
        },
        {
         "metadata": "{}",
         "name": "sum(price)",
         "type": "\"double\""
        }
       ],
       "type": "table"
      }
     },
     "output_type": "display_data"
    },
    {
     "output_type": "display_data",
     "data": {
      "text/plain": [
       "Databricks visualization. Run in Databricks to view."
      ]
     },
     "metadata": {
      "application/vnd.databricks.v1.subcommand+json": {
       "baseErrorDetails": null,
       "bindings": {},
       "collapsed": false,
       "command": "%python\n__backend_agg_display_orig = display\n__backend_agg_dfs = []\ndef __backend_agg_display_new(df):\n    __backend_agg_df_modules = [\"pandas.core.frame\", \"databricks.koalas.frame\", \"pyspark.sql.dataframe\", \"pyspark.pandas.frame\", \"pyspark.sql.connect.dataframe\"]\n    if (type(df).__module__ in __backend_agg_df_modules and type(df).__name__ == 'DataFrame') or isinstance(df, list):\n        __backend_agg_dfs.append(df)\n\ndisplay = __backend_agg_display_new\n\ndef __backend_agg_user_code_fn():\n    import base64\n    exec(base64.standard_b64decode(\"ZGZfeWVhciA9IChzYWxlc19kZi5qb2luKG1lbnVfZGYsICdwcm9kdWN0X2lkJykuZ3JvdXBCeSgnb3JkZXJfeWVhcicpLmFnZyh7InByaWNlIjoic3VtIn0pLm9yZGVyQnkoJ29yZGVyX3llYXInKSkKZGlzcGxheShkZl95ZWFyKQ==\").decode())\n\ntry:\n    # run user code\n    __backend_agg_user_code_fn()\n\n    #reset display function\n    display = __backend_agg_display_orig\n\n    if len(__backend_agg_dfs) > 0:\n        # create a temp view\n        if type(__backend_agg_dfs[0]).__module__ == \"databricks.koalas.frame\":\n            # koalas dataframe\n            __backend_agg_dfs[0].to_spark().createOrReplaceTempView(\"DatabricksView1601d82\")\n        elif type(__backend_agg_dfs[0]).__module__ == \"pandas.core.frame\" or isinstance(__backend_agg_dfs[0], list):\n            # pandas dataframe\n            spark.createDataFrame(__backend_agg_dfs[0]).createOrReplaceTempView(\"DatabricksView1601d82\")\n        else:\n            __backend_agg_dfs[0].createOrReplaceTempView(\"DatabricksView1601d82\")\n        #run backend agg\n        display(spark.sql(\"\"\"WITH q AS (select * from DatabricksView1601d82) SELECT `order_year`,SUM(`sum(price)`) `column_d710edcb11` FROM q GROUP BY `order_year`\"\"\"))\n    else:\n        displayHTML(\"dataframe no longer exists. If you're using dataframe.display(), use display(dataframe) instead.\")\n\n\nfinally:\n    spark.sql(\"drop view if exists DatabricksView1601d82\")\n    display = __backend_agg_display_orig\n    del __backend_agg_display_new\n    del __backend_agg_display_orig\n    del __backend_agg_dfs\n    del __backend_agg_user_code_fn\n\n",
       "commandTitle": "Visualization 1",
       "commandType": "auto",
       "commandVersion": 0,
       "commentThread": [],
       "commentsVisible": false,
       "contentSha256Hex": null,
       "customPlotOptions": {
        "redashChart": [
         {
          "key": "type",
          "value": "CHART"
         },
         {
          "key": "options",
          "value": {
           "alignYAxesAtZero": true,
           "coefficient": 1,
           "columnConfigurationMap": {
            "x": {
             "column": "order_year",
             "id": "column_d710edcb10"
            },
            "y": [
             {
              "column": "sum(price)",
              "id": "column_d710edcb11",
              "transform": "SUM"
             }
            ]
           },
           "dateTimeFormat": "DD/MM/YYYY HH:mm",
           "direction": {
            "type": "counterclockwise"
           },
           "error_y": {
            "type": "data",
            "visible": true
           },
           "globalSeriesType": "column",
           "isAggregationOn": true,
           "legend": {
            "traceorder": "normal"
           },
           "missingValuesAsZero": true,
           "numberFormat": "0,0.[00000]",
           "percentFormat": "0[.]00%",
           "series": {
            "error_y": {
             "type": "data",
             "visible": true
            },
            "stacking": null
           },
           "seriesOptions": {
            "column_d710edcb11": {
             "name": "sum(price)",
             "type": "column",
             "yAxis": 0
            }
           },
           "showDataLabels": true,
           "sizemode": "diameter",
           "sortX": true,
           "sortY": true,
           "swappedAxes": false,
           "textFormat": "",
           "useAggregationsUi": true,
           "valuesOptions": {},
           "version": 2,
           "xAxis": {
            "labels": {
             "enabled": true
            },
            "type": "-"
           },
           "yAxis": [
            {
             "type": "-"
            },
            {
             "opposite": true,
             "type": "-"
            }
           ]
          }
         }
        ]
       },
       "datasetPreviewNameToCmdIdMap": {},
       "diffDeletes": [],
       "diffInserts": [],
       "displayType": "redashChart",
       "error": null,
       "errorDetails": null,
       "errorSummary": null,
       "errorTraceType": null,
       "finishTime": 0,
       "globalVars": {},
       "guid": "",
       "height": "auto",
       "hideCommandCode": false,
       "hideCommandResult": false,
       "iPythonMetadata": null,
       "inputWidgets": {},
       "isLockedInExamMode": false,
       "latestUser": "a user",
       "latestUserId": null,
       "listResultMetadata": null,
       "metadata": {
        "byteLimit": 2048000,
        "rowLimit": 10000
       },
       "nuid": "ef9d69b8-2554-4647-a206-b20064758dc2",
       "origId": 0,
       "parentHierarchy": [],
       "pivotAggregation": null,
       "pivotColumns": null,
       "position": 9.0,
       "resultDbfsErrorMessage": null,
       "resultDbfsStatus": "INLINED_IN_TREE",
       "results": null,
       "showCommandTitle": false,
       "startTime": 0,
       "state": "finished",
       "streamStates": {},
       "subcommandOptions": {
        "queryPlan": {
         "groups": [
          {
           "column": "order_year",
           "type": "column"
          }
         ],
         "selects": [
          {
           "column": "order_year",
           "type": "column"
          },
          {
           "alias": "column_d710edcb11",
           "args": [
            {
             "column": "sum(price)",
             "type": "column"
            }
           ],
           "function": "SUM",
           "type": "function"
          }
         ]
        }
       },
       "submitTime": 0,
       "subtype": "tableResultSubCmd.visualization",
       "tableResultIndex": 0,
       "useConsistentColors": false,
       "version": "CommandV1",
       "width": "auto",
       "workflows": [],
       "xColumns": null,
       "yColumns": null
      }
     },
     "output_type": "display_data"
    }
   ],
   "source": [
    "df_year = (sales_df.join(menu_df, 'product_id').groupBy('order_year').agg({\"price\":\"sum\"}).orderBy('order_year'))\n",
    "display(df_year)"
   ]
  },
  {
   "cell_type": "code",
   "execution_count": 0,
   "metadata": {
    "application/vnd.databricks.v1+cell": {
     "cellMetadata": {
      "byteLimit": 2048000,
      "rowLimit": 10000
     },
     "inputWidgets": {},
     "nuid": "16e8fe52-d515-4be4-b53c-0ea0f806ec4f",
     "showTitle": false,
     "title": ""
    }
   },
   "outputs": [
    {
     "output_type": "display_data",
     "data": {
      "text/html": [
       "<style scoped>\n",
       "  .table-result-container {\n",
       "    max-height: 300px;\n",
       "    overflow: auto;\n",
       "  }\n",
       "  table, th, td {\n",
       "    border: 1px solid black;\n",
       "    border-collapse: collapse;\n",
       "  }\n",
       "  th, td {\n",
       "    padding: 5px;\n",
       "  }\n",
       "  th {\n",
       "    text-align: left;\n",
       "  }\n",
       "</style><div class='table-result-container'><table class='table-result'><thead style='background-color: white'><tr><th>order_quarter</th><th>sum(price)</th></tr></thead><tbody><tr><td>1</td><td>6600.0</td></tr><tr><td>2</td><td>5920.0</td></tr><tr><td>3</td><td>910.0</td></tr><tr><td>4</td><td>910.0</td></tr></tbody></table></div>"
      ]
     },
     "metadata": {
      "application/vnd.databricks.v1+output": {
       "addedWidgets": {},
       "aggData": [],
       "aggError": "",
       "aggOverflow": false,
       "aggSchema": [],
       "aggSeriesLimitReached": false,
       "aggType": "",
       "arguments": {},
       "columnCustomDisplayInfos": {},
       "data": [
        [
         1,
         6600.0
        ],
        [
         2,
         5920.0
        ],
        [
         3,
         910.0
        ],
        [
         4,
         910.0
        ]
       ],
       "datasetInfos": [],
       "dbfsResultPath": null,
       "isJsonSchema": true,
       "metadata": {},
       "overflow": false,
       "plotOptions": {
        "customPlotOptions": {},
        "displayType": "table",
        "pivotAggregation": null,
        "pivotColumns": null,
        "xColumns": null,
        "yColumns": null
       },
       "removedWidgets": [],
       "schema": [
        {
         "metadata": "{}",
         "name": "order_quarter",
         "type": "\"integer\""
        },
        {
         "metadata": "{}",
         "name": "sum(price)",
         "type": "\"double\""
        }
       ],
       "type": "table"
      }
     },
     "output_type": "display_data"
    },
    {
     "output_type": "display_data",
     "data": {
      "text/plain": [
       "Databricks visualization. Run in Databricks to view."
      ]
     },
     "metadata": {
      "application/vnd.databricks.v1.subcommand+json": {
       "baseErrorDetails": null,
       "bindings": {},
       "collapsed": false,
       "command": "%python\n__backend_agg_display_orig = display\n__backend_agg_dfs = []\ndef __backend_agg_display_new(df):\n    __backend_agg_df_modules = [\"pandas.core.frame\", \"databricks.koalas.frame\", \"pyspark.sql.dataframe\", \"pyspark.pandas.frame\", \"pyspark.sql.connect.dataframe\"]\n    if (type(df).__module__ in __backend_agg_df_modules and type(df).__name__ == 'DataFrame') or isinstance(df, list):\n        __backend_agg_dfs.append(df)\n\ndisplay = __backend_agg_display_new\n\ndef __backend_agg_user_code_fn():\n    import base64\n    exec(base64.standard_b64decode(\"ZGZfcXVhdGVyID0gKHNhbGVzX2RmLmpvaW4obWVudV9kZiwgJ3Byb2R1Y3RfaWQnKS5ncm91cEJ5KCdvcmRlcl9xdWFydGVyJykuYWdnKHsicHJpY2UiOiJzdW0ifSkub3JkZXJCeSgnb3JkZXJfcXVhcnRlcicpKQpkaXNwbGF5KGRmX3F1YXRlcik=\").decode())\n\ntry:\n    # run user code\n    __backend_agg_user_code_fn()\n\n    #reset display function\n    display = __backend_agg_display_orig\n\n    if len(__backend_agg_dfs) > 0:\n        # create a temp view\n        if type(__backend_agg_dfs[0]).__module__ == \"databricks.koalas.frame\":\n            # koalas dataframe\n            __backend_agg_dfs[0].to_spark().createOrReplaceTempView(\"DatabricksViewf3adb6d\")\n        elif type(__backend_agg_dfs[0]).__module__ == \"pandas.core.frame\" or isinstance(__backend_agg_dfs[0], list):\n            # pandas dataframe\n            spark.createDataFrame(__backend_agg_dfs[0]).createOrReplaceTempView(\"DatabricksViewf3adb6d\")\n        else:\n            __backend_agg_dfs[0].createOrReplaceTempView(\"DatabricksViewf3adb6d\")\n        #run backend agg\n        display(spark.sql(\"\"\"WITH q AS (select * from DatabricksViewf3adb6d) SELECT `order_quarter`,SUM(`sum(price)`) `column_d710edcb16` FROM q GROUP BY `order_quarter`\"\"\"))\n    else:\n        displayHTML(\"dataframe no longer exists. If you're using dataframe.display(), use display(dataframe) instead.\")\n\n\nfinally:\n    spark.sql(\"drop view if exists DatabricksViewf3adb6d\")\n    display = __backend_agg_display_orig\n    del __backend_agg_display_new\n    del __backend_agg_display_orig\n    del __backend_agg_dfs\n    del __backend_agg_user_code_fn\n\n",
       "commandTitle": "Visualization 1",
       "commandType": "auto",
       "commandVersion": 0,
       "commentThread": [],
       "commentsVisible": false,
       "contentSha256Hex": null,
       "customPlotOptions": {
        "redashChart": [
         {
          "key": "type",
          "value": "CHART"
         },
         {
          "key": "options",
          "value": {
           "alignYAxesAtZero": true,
           "coefficient": 1,
           "columnConfigurationMap": {
            "x": {
             "column": "order_quarter",
             "id": "column_d710edcb15"
            },
            "y": [
             {
              "column": "sum(price)",
              "id": "column_d710edcb16",
              "transform": "SUM"
             }
            ]
           },
           "dateTimeFormat": "DD/MM/YYYY HH:mm",
           "direction": {
            "type": "counterclockwise"
           },
           "error_y": {
            "type": "data",
            "visible": true
           },
           "globalSeriesType": "pie",
           "isAggregationOn": true,
           "legend": {
            "traceorder": "normal"
           },
           "missingValuesAsZero": true,
           "numberFormat": "0,0.[00000]",
           "percentFormat": "0[.]00%",
           "series": {
            "error_y": {
             "type": "data",
             "visible": true
            },
            "stacking": null
           },
           "seriesOptions": {
            "column_d710edcb16": {
             "name": "sum(price)",
             "type": "pie",
             "yAxis": 0
            }
           },
           "showDataLabels": true,
           "sizemode": "diameter",
           "sortX": true,
           "sortY": true,
           "swappedAxes": false,
           "textFormat": "",
           "useAggregationsUi": true,
           "valuesOptions": {},
           "version": 2,
           "xAxis": {
            "labels": {
             "enabled": true
            },
            "type": "-"
           },
           "yAxis": [
            {
             "type": "-"
            },
            {
             "opposite": true,
             "type": "-"
            }
           ]
          }
         }
        ]
       },
       "datasetPreviewNameToCmdIdMap": {},
       "diffDeletes": [],
       "diffInserts": [],
       "displayType": "redashChart",
       "error": null,
       "errorDetails": null,
       "errorSummary": null,
       "errorTraceType": null,
       "finishTime": 0,
       "globalVars": {},
       "guid": "",
       "height": "auto",
       "hideCommandCode": false,
       "hideCommandResult": false,
       "iPythonMetadata": null,
       "inputWidgets": {},
       "isLockedInExamMode": false,
       "latestUser": "a user",
       "latestUserId": null,
       "listResultMetadata": null,
       "metadata": {
        "byteLimit": 2048000,
        "rowLimit": 10000
       },
       "nuid": "4ab37cfe-25dd-4710-9d74-ee6684376ab3",
       "origId": 0,
       "parentHierarchy": [],
       "pivotAggregation": null,
       "pivotColumns": null,
       "position": 10.0,
       "resultDbfsErrorMessage": null,
       "resultDbfsStatus": "INLINED_IN_TREE",
       "results": null,
       "showCommandTitle": false,
       "startTime": 0,
       "state": "finished",
       "streamStates": {},
       "subcommandOptions": {
        "queryPlan": {
         "groups": [
          {
           "column": "order_quarter",
           "type": "column"
          }
         ],
         "selects": [
          {
           "column": "order_quarter",
           "type": "column"
          },
          {
           "alias": "column_d710edcb16",
           "args": [
            {
             "column": "sum(price)",
             "type": "column"
            }
           ],
           "function": "SUM",
           "type": "function"
          }
         ]
        }
       },
       "submitTime": 0,
       "subtype": "tableResultSubCmd.visualization",
       "tableResultIndex": 0,
       "useConsistentColors": false,
       "version": "CommandV1",
       "width": "auto",
       "workflows": [],
       "xColumns": null,
       "yColumns": null
      }
     },
     "output_type": "display_data"
    }
   ],
   "source": [
    "df_quater = (sales_df.join(menu_df, 'product_id').groupBy('order_quarter').agg({\"price\":\"sum\"}).orderBy('order_quarter'))\n",
    "display(df_quater)"
   ]
  },
  {
   "cell_type": "code",
   "execution_count": 0,
   "metadata": {
    "application/vnd.databricks.v1+cell": {
     "cellMetadata": {
      "byteLimit": 2048000,
      "rowLimit": 10000
     },
     "inputWidgets": {},
     "nuid": "fc33a9ac-8a4d-400a-b73f-420d8db919f5",
     "showTitle": true,
     "title": "how many times each product was purchased"
    }
   },
   "outputs": [
    {
     "output_type": "display_data",
     "data": {
      "text/html": [
       "<style scoped>\n",
       "  .table-result-container {\n",
       "    max-height: 300px;\n",
       "    overflow: auto;\n",
       "  }\n",
       "  table, th, td {\n",
       "    border: 1px solid black;\n",
       "    border-collapse: collapse;\n",
       "  }\n",
       "  th, td {\n",
       "    padding: 5px;\n",
       "  }\n",
       "  th {\n",
       "    text-align: left;\n",
       "  }\n",
       "</style><div class='table-result-container'><table class='table-result'><thead style='background-color: white'><tr><th>product_name</th><th>product_count</th></tr></thead><tbody><tr><td> sandwich</td><td>48</td></tr><tr><td> Chowmin</td><td>24</td></tr><tr><td> PIZZA</td><td>21</td></tr><tr><td> Dosa</td><td>12</td></tr><tr><td> Biryani</td><td>6</td></tr><tr><td> Pasta</td><td>6</td></tr></tbody></table></div>"
      ]
     },
     "metadata": {
      "application/vnd.databricks.v1+output": {
       "addedWidgets": {},
       "aggData": [],
       "aggError": "",
       "aggOverflow": false,
       "aggSchema": [],
       "aggSeriesLimitReached": false,
       "aggType": "",
       "arguments": {},
       "columnCustomDisplayInfos": {},
       "data": [
        [
         " sandwich",
         48
        ],
        [
         " Chowmin",
         24
        ],
        [
         " PIZZA",
         21
        ],
        [
         " Dosa",
         12
        ],
        [
         " Biryani",
         6
        ],
        [
         " Pasta",
         6
        ]
       ],
       "datasetInfos": [],
       "dbfsResultPath": null,
       "isJsonSchema": true,
       "metadata": {},
       "overflow": false,
       "plotOptions": {
        "customPlotOptions": {},
        "displayType": "table",
        "pivotAggregation": null,
        "pivotColumns": null,
        "xColumns": null,
        "yColumns": null
       },
       "removedWidgets": [],
       "schema": [
        {
         "metadata": "{}",
         "name": "product_name",
         "type": "\"string\""
        },
        {
         "metadata": "{}",
         "name": "product_count",
         "type": "\"long\""
        }
       ],
       "type": "table"
      }
     },
     "output_type": "display_data"
    },
    {
     "output_type": "display_data",
     "data": {
      "text/plain": [
       "Databricks visualization. Run in Databricks to view."
      ]
     },
     "metadata": {
      "application/vnd.databricks.v1.subcommand+json": {
       "baseErrorDetails": null,
       "bindings": {},
       "collapsed": false,
       "command": "from pyspark.sql.functions import count\n\nmost_df = (sales_df.join(menu_df, 'product_id').groupBy('product_id', 'product_name').agg(count('product_id').alias('product_count'))\n           .orderBy('product_count', ascending=0).drop('product_id'))\ndisplay(most_df)",
       "commandTitle": "Visualization 1",
       "commandType": "auto",
       "commandVersion": 0,
       "commentThread": [],
       "commentsVisible": false,
       "contentSha256Hex": null,
       "customPlotOptions": {
        "redashChart": [
         {
          "key": "type",
          "value": "FUNNEL"
         },
         {
          "key": "options",
          "value": {
           "autoSort": true,
           "itemsLimit": 100,
           "numberFormat": "0,0.[00]",
           "percentFormat": "0[.]00%",
           "percentValuesRange": {
            "max": 1000,
            "min": 0.01
           },
           "sortKeyCol": {
            "colName": "product_count",
            "reverse": true
           },
           "stepCol": {
            "colName": "product_name",
            "displayAs": "Steps"
           },
           "valueCol": {
            "colName": "product_count",
            "displayAs": "Value"
           }
          }
         }
        ]
       },
       "datasetPreviewNameToCmdIdMap": {},
       "diffDeletes": [],
       "diffInserts": [],
       "displayType": "redashChart",
       "error": null,
       "errorDetails": null,
       "errorSummary": null,
       "errorTraceType": null,
       "finishTime": 0,
       "globalVars": {},
       "guid": "",
       "height": "auto",
       "hideCommandCode": false,
       "hideCommandResult": false,
       "iPythonMetadata": null,
       "inputWidgets": {},
       "isLockedInExamMode": false,
       "latestUser": "a user",
       "latestUserId": null,
       "listResultMetadata": null,
       "metadata": {
        "byteLimit": 2048000,
        "rowLimit": 10000
       },
       "nuid": "7d4811c8-acaa-4cee-ba50-ac516af604cb",
       "origId": 0,
       "parentHierarchy": [],
       "pivotAggregation": null,
       "pivotColumns": null,
       "position": 11.0,
       "resultDbfsErrorMessage": null,
       "resultDbfsStatus": "INLINED_IN_TREE",
       "results": null,
       "showCommandTitle": false,
       "startTime": 0,
       "state": "finished",
       "streamStates": {},
       "subcommandOptions": {},
       "submitTime": 0,
       "subtype": "tableResultSubCmd.visualization",
       "tableResultIndex": 0,
       "useConsistentColors": false,
       "version": "CommandV1",
       "width": "auto",
       "workflows": [],
       "xColumns": null,
       "yColumns": null
      }
     },
     "output_type": "display_data"
    }
   ],
   "source": [
    "from pyspark.sql.functions import count\n",
    "\n",
    "most_df = (sales_df.join(menu_df, 'product_id').groupBy('product_id', 'product_name').agg(count('product_id').alias('product_count'))\n",
    "           .orderBy('product_count', ascending=0).drop('product_id'))\n",
    "display(most_df)"
   ]
  },
  {
   "cell_type": "code",
   "execution_count": 0,
   "metadata": {
    "application/vnd.databricks.v1+cell": {
     "cellMetadata": {
      "byteLimit": 2048000,
      "rowLimit": 10000
     },
     "inputWidgets": {},
     "nuid": "d4b1b9d2-7e43-416c-9732-f70ea28f10f6",
     "showTitle": true,
     "title": "top ordered item"
    }
   },
   "outputs": [
    {
     "output_type": "display_data",
     "data": {
      "text/html": [
       "<style scoped>\n",
       "  .table-result-container {\n",
       "    max-height: 300px;\n",
       "    overflow: auto;\n",
       "  }\n",
       "  table, th, td {\n",
       "    border: 1px solid black;\n",
       "    border-collapse: collapse;\n",
       "  }\n",
       "  th, td {\n",
       "    padding: 5px;\n",
       "  }\n",
       "  th {\n",
       "    text-align: left;\n",
       "  }\n",
       "</style><div class='table-result-container'><table class='table-result'><thead style='background-color: white'><tr><th>product_name</th><th>product_count</th></tr></thead><tbody><tr><td> sandwich</td><td>48</td></tr></tbody></table></div>"
      ]
     },
     "metadata": {
      "application/vnd.databricks.v1+output": {
       "addedWidgets": {},
       "aggData": [],
       "aggError": "",
       "aggOverflow": false,
       "aggSchema": [],
       "aggSeriesLimitReached": false,
       "aggType": "",
       "arguments": {},
       "columnCustomDisplayInfos": {},
       "data": [
        [
         " sandwich",
         48
        ]
       ],
       "datasetInfos": [],
       "dbfsResultPath": null,
       "isJsonSchema": true,
       "metadata": {},
       "overflow": false,
       "plotOptions": {
        "customPlotOptions": {},
        "displayType": "table",
        "pivotAggregation": null,
        "pivotColumns": null,
        "xColumns": null,
        "yColumns": null
       },
       "removedWidgets": [],
       "schema": [
        {
         "metadata": "{}",
         "name": "product_name",
         "type": "\"string\""
        },
        {
         "metadata": "{}",
         "name": "product_count",
         "type": "\"long\""
        }
       ],
       "type": "table"
      }
     },
     "output_type": "display_data"
    }
   ],
   "source": [
    "from pyspark.sql.functions import count\n",
    "\n",
    "most_df = (sales_df.join(menu_df, 'product_id').groupBy('product_id', 'product_name').agg(count('product_id').alias('product_count'))\n",
    "           .orderBy('product_count', ascending=0).drop('product_id').limit(1))\n",
    "display(most_df)"
   ]
  },
  {
   "cell_type": "code",
   "execution_count": 0,
   "metadata": {
    "application/vnd.databricks.v1+cell": {
     "cellMetadata": {
      "byteLimit": 2048000,
      "rowLimit": 10000
     },
     "inputWidgets": {},
     "nuid": "538361cf-e2f0-4288-9814-120b2be87740",
     "showTitle": true,
     "title": "frequency of each customer vists to the resturants"
    }
   },
   "outputs": [
    {
     "output_type": "display_data",
     "data": {
      "text/html": [
       "<style scoped>\n",
       "  .table-result-container {\n",
       "    max-height: 300px;\n",
       "    overflow: auto;\n",
       "  }\n",
       "  table, th, td {\n",
       "    border: 1px solid black;\n",
       "    border-collapse: collapse;\n",
       "  }\n",
       "  th, td {\n",
       "    padding: 5px;\n",
       "  }\n",
       "  th {\n",
       "    text-align: left;\n",
       "  }\n",
       "</style><div class='table-result-container'><table class='table-result'><thead style='background-color: white'><tr><th>customer_id</th><th>count(order_date)</th></tr></thead><tbody><tr><td>E</td><td>5</td></tr><tr><td>B</td><td>6</td></tr><tr><td>D</td><td>1</td></tr><tr><td>C</td><td>3</td></tr><tr><td>A</td><td>6</td></tr></tbody></table></div>"
      ]
     },
     "metadata": {
      "application/vnd.databricks.v1+output": {
       "addedWidgets": {},
       "aggData": [],
       "aggError": "",
       "aggOverflow": false,
       "aggSchema": [],
       "aggSeriesLimitReached": false,
       "aggType": "",
       "arguments": {},
       "columnCustomDisplayInfos": {},
       "data": [
        [
         "E",
         5
        ],
        [
         "B",
         6
        ],
        [
         "D",
         1
        ],
        [
         "C",
         3
        ],
        [
         "A",
         6
        ]
       ],
       "datasetInfos": [],
       "dbfsResultPath": null,
       "isJsonSchema": true,
       "metadata": {},
       "overflow": false,
       "plotOptions": {
        "customPlotOptions": {},
        "displayType": "table",
        "pivotAggregation": null,
        "pivotColumns": null,
        "xColumns": null,
        "yColumns": null
       },
       "removedWidgets": [],
       "schema": [
        {
         "metadata": "{}",
         "name": "customer_id",
         "type": "\"string\""
        },
        {
         "metadata": "{}",
         "name": "count(order_date)",
         "type": "\"long\""
        }
       ],
       "type": "table"
      }
     },
     "output_type": "display_data"
    },
    {
     "output_type": "display_data",
     "data": {
      "text/plain": [
       "Databricks visualization. Run in Databricks to view."
      ]
     },
     "metadata": {
      "application/vnd.databricks.v1.subcommand+json": {
       "baseErrorDetails": null,
       "bindings": {},
       "collapsed": false,
       "command": "%python\n__backend_agg_display_orig = display\n__backend_agg_dfs = []\ndef __backend_agg_display_new(df):\n    __backend_agg_df_modules = [\"pandas.core.frame\", \"databricks.koalas.frame\", \"pyspark.sql.dataframe\", \"pyspark.pandas.frame\", \"pyspark.sql.connect.dataframe\"]\n    if (type(df).__module__ in __backend_agg_df_modules and type(df).__name__ == 'DataFrame') or isinstance(df, list):\n        __backend_agg_dfs.append(df)\n\ndisplay = __backend_agg_display_new\n\ndef __backend_agg_user_code_fn():\n    import base64\n    exec(base64.standard_b64decode(\"ZnJvbSBweXNwYXJrLnNxbC5mdW5jdGlvbnMgaW1wb3J0IGNvdW50LCBjb3VudERpc3RpbmN0CgpkZiA9IChzYWxlc19kZi5maWx0ZXIoc2FsZXNfZGYuc291cmNlX29yZGVyPT0nUmVzdGF1cmFudCcpLmdyb3VwQnkoJ2N1c3RvbWVyX2lkJykuYWdnKGNvdW50RGlzdGluY3QoJ29yZGVyX2RhdGUnKSkpCmRpc3BsYXkoZGYp\").decode())\n\ntry:\n    # run user code\n    __backend_agg_user_code_fn()\n\n    #reset display function\n    display = __backend_agg_display_orig\n\n    if len(__backend_agg_dfs) > 0:\n        # create a temp view\n        if type(__backend_agg_dfs[0]).__module__ == \"databricks.koalas.frame\":\n            # koalas dataframe\n            __backend_agg_dfs[0].to_spark().createOrReplaceTempView(\"DatabricksView9a0e484\")\n        elif type(__backend_agg_dfs[0]).__module__ == \"pandas.core.frame\" or isinstance(__backend_agg_dfs[0], list):\n            # pandas dataframe\n            spark.createDataFrame(__backend_agg_dfs[0]).createOrReplaceTempView(\"DatabricksView9a0e484\")\n        else:\n            __backend_agg_dfs[0].createOrReplaceTempView(\"DatabricksView9a0e484\")\n        #run backend agg\n        display(spark.sql(\"\"\"WITH q AS (select * from DatabricksView9a0e484) SELECT `customer_id`,SUM(`count(order_date)`) `column_d710edcb22` FROM q GROUP BY `customer_id`\"\"\"))\n    else:\n        displayHTML(\"dataframe no longer exists. If you're using dataframe.display(), use display(dataframe) instead.\")\n\n\nfinally:\n    spark.sql(\"drop view if exists DatabricksView9a0e484\")\n    display = __backend_agg_display_orig\n    del __backend_agg_display_new\n    del __backend_agg_display_orig\n    del __backend_agg_dfs\n    del __backend_agg_user_code_fn\n\n",
       "commandTitle": "Visualization 1",
       "commandType": "auto",
       "commandVersion": 0,
       "commentThread": [],
       "commentsVisible": false,
       "contentSha256Hex": null,
       "customPlotOptions": {
        "redashChart": [
         {
          "key": "type",
          "value": "CHART"
         },
         {
          "key": "options",
          "value": {
           "alignYAxesAtZero": true,
           "coefficient": 1,
           "columnConfigurationMap": {
            "x": {
             "column": "customer_id",
             "id": "column_d710edcb21"
            },
            "y": [
             {
              "column": "count(order_date)",
              "id": "column_d710edcb22",
              "transform": "SUM"
             }
            ]
           },
           "dateTimeFormat": "DD/MM/YYYY HH:mm",
           "direction": {
            "type": "counterclockwise"
           },
           "error_y": {
            "type": "data",
            "visible": true
           },
           "globalSeriesType": "column",
           "isAggregationOn": true,
           "legend": {
            "traceorder": "normal"
           },
           "missingValuesAsZero": true,
           "numberFormat": "0,0.[00000]",
           "percentFormat": "0[.]00%",
           "series": {
            "error_y": {
             "type": "data",
             "visible": true
            },
            "stacking": null
           },
           "seriesOptions": {
            "column_d710edcb22": {
             "name": "count(order_date)",
             "yAxis": 0
            }
           },
           "showDataLabels": true,
           "sizemode": "diameter",
           "sortX": true,
           "sortY": true,
           "swappedAxes": true,
           "textFormat": "",
           "useAggregationsUi": true,
           "valuesOptions": {},
           "version": 2,
           "xAxis": {
            "labels": {
             "enabled": true
            },
            "type": "-"
           },
           "yAxis": [
            {
             "type": "-"
            },
            {
             "opposite": true,
             "type": "-"
            }
           ]
          }
         }
        ]
       },
       "datasetPreviewNameToCmdIdMap": {},
       "diffDeletes": [],
       "diffInserts": [],
       "displayType": "redashChart",
       "error": null,
       "errorDetails": null,
       "errorSummary": null,
       "errorTraceType": null,
       "finishTime": 0,
       "globalVars": {},
       "guid": "",
       "height": "auto",
       "hideCommandCode": false,
       "hideCommandResult": false,
       "iPythonMetadata": null,
       "inputWidgets": {},
       "isLockedInExamMode": false,
       "latestUser": "a user",
       "latestUserId": null,
       "listResultMetadata": null,
       "metadata": {},
       "nuid": "936e0a15-061d-43a4-903d-87a3d700a000",
       "origId": 0,
       "parentHierarchy": [],
       "pivotAggregation": null,
       "pivotColumns": null,
       "position": 13.0,
       "resultDbfsErrorMessage": null,
       "resultDbfsStatus": "INLINED_IN_TREE",
       "results": null,
       "showCommandTitle": false,
       "startTime": 0,
       "state": "input",
       "streamStates": {},
       "subcommandOptions": {
        "queryPlan": {
         "groups": [
          {
           "column": "customer_id",
           "type": "column"
          }
         ],
         "selects": [
          {
           "column": "customer_id",
           "type": "column"
          },
          {
           "alias": "column_d710edcb22",
           "args": [
            {
             "column": "count(order_date)",
             "type": "column"
            }
           ],
           "function": "SUM",
           "type": "function"
          }
         ]
        }
       },
       "submitTime": 0,
       "subtype": "tableResultSubCmd.visualization",
       "tableResultIndex": 0,
       "useConsistentColors": false,
       "version": "CommandV1",
       "width": "auto",
       "workflows": [],
       "xColumns": null,
       "yColumns": null
      }
     },
     "output_type": "display_data"
    }
   ],
   "source": [
    "from pyspark.sql.functions import count, countDistinct\n",
    "\n",
    "df = (sales_df.filter(sales_df.source_order=='Restaurant').groupBy('customer_id').agg(countDistinct('order_date')))\n",
    "display(df)"
   ]
  },
  {
   "cell_type": "code",
   "execution_count": 0,
   "metadata": {
    "application/vnd.databricks.v1+cell": {
     "cellMetadata": {
      "byteLimit": 2048000,
      "rowLimit": 10000
     },
     "inputWidgets": {},
     "nuid": "8211a46f-f8f7-4fb5-8932-65b96d05b6e8",
     "showTitle": true,
     "title": "total sales by each country"
    }
   },
   "outputs": [
    {
     "output_type": "display_data",
     "data": {
      "text/html": [
       "<style scoped>\n",
       "  .table-result-container {\n",
       "    max-height: 300px;\n",
       "    overflow: auto;\n",
       "  }\n",
       "  table, th, td {\n",
       "    border: 1px solid black;\n",
       "    border-collapse: collapse;\n",
       "  }\n",
       "  th, td {\n",
       "    padding: 5px;\n",
       "  }\n",
       "  th {\n",
       "    text-align: left;\n",
       "  }\n",
       "</style><div class='table-result-container'><table class='table-result'><thead style='background-color: white'><tr><th>location</th><th>sum(price)</th></tr></thead><tbody><tr><td>India</td><td>4860.0</td></tr><tr><td>USA</td><td>2460.0</td></tr><tr><td>UK</td><td>7020.0</td></tr></tbody></table></div>"
      ]
     },
     "metadata": {
      "application/vnd.databricks.v1+output": {
       "addedWidgets": {},
       "aggData": [],
       "aggError": "",
       "aggOverflow": false,
       "aggSchema": [],
       "aggSeriesLimitReached": false,
       "aggType": "",
       "arguments": {},
       "columnCustomDisplayInfos": {},
       "data": [
        [
         "India",
         4860.0
        ],
        [
         "USA",
         2460.0
        ],
        [
         "UK",
         7020.0
        ]
       ],
       "datasetInfos": [],
       "dbfsResultPath": null,
       "isJsonSchema": true,
       "metadata": {},
       "overflow": false,
       "plotOptions": {
        "customPlotOptions": {},
        "displayType": "table",
        "pivotAggregation": null,
        "pivotColumns": null,
        "xColumns": null,
        "yColumns": null
       },
       "removedWidgets": [],
       "schema": [
        {
         "metadata": "{}",
         "name": "location",
         "type": "\"string\""
        },
        {
         "metadata": "{}",
         "name": "sum(price)",
         "type": "\"double\""
        }
       ],
       "type": "table"
      }
     },
     "output_type": "display_data"
    }
   ],
   "source": [
    "total_amount_spent = (sales_df.join(menu_df, 'product_id').groupBy('location').agg({\"price\":\"sum\"}))\n",
    "display(total_amount_spent)"
   ]
  },
  {
   "cell_type": "code",
   "execution_count": 0,
   "metadata": {
    "application/vnd.databricks.v1+cell": {
     "cellMetadata": {
      "byteLimit": 2048000,
      "rowLimit": 10000
     },
     "inputWidgets": {},
     "nuid": "317023c4-ec48-47bf-bf51-ac404d6654be",
     "showTitle": true,
     "title": "total sales by source order"
    }
   },
   "outputs": [
    {
     "output_type": "display_data",
     "data": {
      "text/html": [
       "<style scoped>\n",
       "  .table-result-container {\n",
       "    max-height: 300px;\n",
       "    overflow: auto;\n",
       "  }\n",
       "  table, th, td {\n",
       "    border: 1px solid black;\n",
       "    border-collapse: collapse;\n",
       "  }\n",
       "  th, td {\n",
       "    padding: 5px;\n",
       "  }\n",
       "  th {\n",
       "    text-align: left;\n",
       "  }\n",
       "</style><div class='table-result-container'><table class='table-result'><thead style='background-color: white'><tr><th>source_order</th><th>sum(price)</th></tr></thead><tbody><tr><td>zomato</td><td>4920.0</td></tr><tr><td>Swiggy</td><td>6330.0</td></tr><tr><td>Restaurant</td><td>3090.0</td></tr></tbody></table></div>"
      ]
     },
     "metadata": {
      "application/vnd.databricks.v1+output": {
       "addedWidgets": {},
       "aggData": [],
       "aggError": "",
       "aggOverflow": false,
       "aggSchema": [],
       "aggSeriesLimitReached": false,
       "aggType": "",
       "arguments": {},
       "columnCustomDisplayInfos": {},
       "data": [
        [
         "zomato",
         4920.0
        ],
        [
         "Swiggy",
         6330.0
        ],
        [
         "Restaurant",
         3090.0
        ]
       ],
       "datasetInfos": [],
       "dbfsResultPath": null,
       "isJsonSchema": true,
       "metadata": {},
       "overflow": false,
       "plotOptions": {
        "customPlotOptions": {},
        "displayType": "table",
        "pivotAggregation": null,
        "pivotColumns": null,
        "xColumns": null,
        "yColumns": null
       },
       "removedWidgets": [],
       "schema": [
        {
         "metadata": "{}",
         "name": "source_order",
         "type": "\"string\""
        },
        {
         "metadata": "{}",
         "name": "sum(price)",
         "type": "\"double\""
        }
       ],
       "type": "table"
      }
     },
     "output_type": "display_data"
    }
   ],
   "source": [
    "total_amount_spent = (sales_df.join(menu_df, 'product_id').groupBy('source_order').agg({\"price\":\"sum\"}))\n",
    "display(total_amount_spent)"
   ]
  },
  {
   "cell_type": "code",
   "execution_count": 0,
   "metadata": {
    "application/vnd.databricks.v1+cell": {
     "cellMetadata": {},
     "inputWidgets": {},
     "nuid": "8c8147e5-2bb2-4a7c-b95b-52fe17f2cd90",
     "showTitle": false,
     "title": ""
    }
   },
   "outputs": [],
   "source": []
  }
 ],
 "metadata": {
  "application/vnd.databricks.v1+notebook": {
   "dashboards": [
    {
     "elements": [
      {
       "dashboardResultIndex": null,
       "elementNUID": "ef9d69b8-2554-4647-a206-b20064758dc2",
       "elementType": "command",
       "guid": "1d10a839-02ad-400f-b516-0dc9fe0aabb1",
       "options": null,
       "position": {
        "height": 6,
        "width": 12,
        "x": 0,
        "y": 18,
        "z": null
       },
       "resultIndex": null
      },
      {
       "dashboardResultIndex": null,
       "elementNUID": "936e0a15-061d-43a4-903d-87a3d700a000",
       "elementType": "command",
       "guid": "200324aa-19fb-4013-9cb8-225846e00073",
       "options": null,
       "position": {
        "height": 6,
        "width": 12,
        "x": 0,
        "y": 48,
        "z": null
       },
       "resultIndex": null
      },
      {
       "dashboardResultIndex": 0,
       "elementNUID": "8211a46f-f8f7-4fb5-8932-65b96d05b6e8",
       "elementType": "command",
       "guid": "28ddda48-3642-4319-aabe-658cd2703c17",
       "options": null,
       "position": {
        "height": 6,
        "width": 12,
        "x": 0,
        "y": 42,
        "z": null
       },
       "resultIndex": null
      },
      {
       "dashboardResultIndex": 0,
       "elementNUID": "607d65b8-5381-43fd-a5f6-a1ab081eada6",
       "elementType": "command",
       "guid": "405941f0-0996-4bfc-9918-e5b61b184421",
       "options": null,
       "position": {
        "height": 6,
        "width": 12,
        "x": 0,
        "y": 6,
        "z": null
       },
       "resultIndex": null
      },
      {
       "dashboardResultIndex": null,
       "elementNUID": "cdb2191e-ee5d-442d-900d-3e931c79eb23",
       "elementType": "command",
       "guid": "424ed68b-55f1-4b88-a115-c0cb5ca3a364",
       "options": null,
       "position": {
        "height": 6,
        "width": 12,
        "x": 12,
        "y": 6,
        "z": null
       },
       "resultIndex": null
      },
      {
       "dashboardResultIndex": 0,
       "elementNUID": "d4b1b9d2-7e43-416c-9732-f70ea28f10f6",
       "elementType": "command",
       "guid": "459df916-f0bb-4957-b174-d6730ec953b2",
       "options": null,
       "position": {
        "height": 6,
        "width": 12,
        "x": 0,
        "y": 30,
        "z": null
       },
       "resultIndex": null
      },
      {
       "dashboardResultIndex": null,
       "elementNUID": "f8afe51d-382f-461d-9b76-f8eb20d5f9cd",
       "elementType": "command",
       "guid": "50f66f73-0568-4a5e-801e-6ebbf0d5b24c",
       "options": null,
       "position": {
        "height": 6,
        "width": 12,
        "x": 12,
        "y": 0,
        "z": null
       },
       "resultIndex": null
      },
      {
       "dashboardResultIndex": null,
       "elementNUID": "808345ee-7eae-4500-879d-c4719ed523af",
       "elementType": "command",
       "guid": "5ff05047-bc83-413d-a23a-106a1a217b6f",
       "options": {
        "autoScaleImg": false,
        "scale": 0,
        "showTitle": true,
        "title": "Total amount spent by each customer",
        "titleAlign": "center"
       },
       "position": {
        "height": 6,
        "width": 12,
        "x": 0,
        "y": 0,
        "z": null
       },
       "resultIndex": null
      },
      {
       "dashboardResultIndex": 0,
       "elementNUID": "317023c4-ec48-47bf-bf51-ac404d6654be",
       "elementType": "command",
       "guid": "6770ce1d-69c2-484a-b2e9-968b9af0e4b9",
       "options": null,
       "position": {
        "height": 6,
        "width": 12,
        "x": 0,
        "y": 54,
        "z": null
       },
       "resultIndex": null
      },
      {
       "dashboardResultIndex": null,
       "elementNUID": "7d4811c8-acaa-4cee-ba50-ac516af604cb",
       "elementType": "command",
       "guid": "7b16f2c0-c261-4166-b4f0-84910fbca447",
       "options": null,
       "position": {
        "height": 6,
        "width": 12,
        "x": 0,
        "y": 36,
        "z": null
       },
       "resultIndex": null
      },
      {
       "dashboardResultIndex": 0,
       "elementNUID": "16e8fe52-d515-4be4-b53c-0ea0f806ec4f",
       "elementType": "command",
       "guid": "a98a1b36-104b-48c7-a994-f49a990f38a5",
       "options": null,
       "position": {
        "height": 6,
        "width": 12,
        "x": 0,
        "y": 12,
        "z": null
       },
       "resultIndex": null
      },
      {
       "dashboardResultIndex": null,
       "elementNUID": "4ab37cfe-25dd-4710-9d74-ee6684376ab3",
       "elementType": "command",
       "guid": "b8c856fe-126d-47e8-a2a3-43da8977304a",
       "options": null,
       "position": {
        "height": 6,
        "width": 12,
        "x": 0,
        "y": 24,
        "z": null
       },
       "resultIndex": null
      }
     ],
     "globalVars": {},
     "guid": "",
     "layoutOption": {
      "grid": true,
      "stack": true
     },
     "nuid": "81327e63-0772-4c93-9b98-b24387b8bb9e",
     "origId": 3528809888571742,
     "title": "sales analysis dashboard",
     "version": "DashboardViewV1",
     "width": 1024
    }
   ],
   "environmentMetadata": null,
   "language": "python",
   "notebookMetadata": {
    "pythonIndentUnit": 4
   },
   "notebookName": "comapany sales analysis",
   "widgets": {}
  }
 },
 "nbformat": 4,
 "nbformat_minor": 0
}
